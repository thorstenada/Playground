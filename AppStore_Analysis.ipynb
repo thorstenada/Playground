{
 "cells": [
  {
   "cell_type": "code",
   "execution_count": 99,
   "id": "b1c88450",
   "metadata": {},
   "outputs": [],
   "source": [
    "from selenium import webdriver\n",
    "from bs4 import BeautifulSoup\n",
    "from time import sleep\n",
    "from datetime import datetime, timedelta\n",
    "import pandas as pd\n",
    "\n",
    "options=webdriver.Chrome(\"C:/../chromedriver\")\n",
    "#options.add_argument('--incognito')\n",
    "driver=options\n",
    "\n",
    "urls=['https://apps.apple.com/de/app/mercedes-me/id1487652920#see-all/reviews']\n",
    "\n",
    "data={\n",
    "    \"date\": [],\n",
    "    \"user\": [],\n",
    "    \"rating\": [],\n",
    "    \"rating_calc\":[],\n",
    "    \"title\": [],\n",
    "    \"feedback\": [],\n",
    "    \"response\":[]\n",
    "}\n",
    "\n",
    "for url in urls:\n",
    "    driver.get(url)\n",
    "    for i in range(max(0,100)): # here you will need to tune to see exactly how many scrolls you need\n",
    "        driver.execute_script('window.scrollBy(0, 150)')\n",
    "        sleep(1)\n",
    "    \n",
    "    src=driver.page_source\n",
    "    soup=BeautifulSoup(src, 'html.parser')\n",
    "    posts = driver.find_elements_by_xpath('//div[@class=\"we-customer-review lockup\"]')\n",
    "    count_posts = len(posts) -1\n",
    "    i = 0\n",
    "    k = 0\n",
    "    for post in posts:\n",
    "        #Dates\n",
    "        dates = post.find_elements_by_xpath('//time[@class=\"we-customer-review__date\"]')\n",
    "        data[\"date\"].append(dates[i].text)\n",
    "        #Users \n",
    "        users = post.find_elements_by_xpath('//span[@class=\"we-truncate we-truncate--single-line  we-customer-review__user\"]')\n",
    "        data[\"user\"].append(users[i].text)\n",
    "        #Ratings\n",
    "        ratings = post.find_elements_by_xpath('//figure[@class=\"we-star-rating we-customer-review__rating we-star-rating--large\"]')\n",
    "        data[\"rating\"].append(ratings[i].get_attribute(\"aria-label\"))\n",
    "        data[\"rating_calc\"].append(int(ratings[i].get_attribute(\"aria-label\")[0:1]))\n",
    "        #Title\n",
    "        titles = post.find_elements_by_xpath('//h3[@class=\"we-truncate we-truncate--single-line  we-customer-review__title\"]')\n",
    "        #titles = soup.find_all(\"h3\",{\"class\":\"we-truncate we-truncate--single-line we-customer-review__title\"},limit=1)\n",
    "        data[\"title\"].append(titles[i].text)\n",
    "        #Feedback\n",
    "        #feedbacks = post.find_elements_by_xpath('//blockquote[@class=\"we-truncate we-truncate--multi-line we-truncate--interactive  we-truncate--truncated we-customer-review__body\"]')\n",
    "        feedbacks = post.find_elements_by_xpath('//h3[@class=\"we-truncate we-truncate--single-line  we-customer-review__title\"]/following::blockquote[1]')\n",
    "        data[\"feedback\"].append(feedbacks[i].text)\n",
    "        #Response\n",
    "        responses = post.find_elements_by_xpath('//h3[@class=\"we-customer-review__header we-customer-review__header--response\"]/following::blockquote[1]')\n",
    "        data[\"response\"].append(responses[i].text)\n",
    "        i = i+1\n",
    "driver.close()"
   ]
  },
  {
   "cell_type": "code",
   "execution_count": 100,
   "id": "68ffc78d",
   "metadata": {},
   "outputs": [
    {
     "data": {
      "text/html": [
       "<div>\n",
       "<style scoped>\n",
       "    .dataframe tbody tr th:only-of-type {\n",
       "        vertical-align: middle;\n",
       "    }\n",
       "\n",
       "    .dataframe tbody tr th {\n",
       "        vertical-align: top;\n",
       "    }\n",
       "\n",
       "    .dataframe thead th {\n",
       "        text-align: right;\n",
       "    }\n",
       "</style>\n",
       "<table border=\"1\" class=\"dataframe\">\n",
       "  <thead>\n",
       "    <tr style=\"text-align: right;\">\n",
       "      <th></th>\n",
       "      <th>date</th>\n",
       "      <th>user</th>\n",
       "      <th>rating</th>\n",
       "      <th>rating_calc</th>\n",
       "      <th>title</th>\n",
       "      <th>feedback</th>\n",
       "      <th>response</th>\n",
       "    </tr>\n",
       "  </thead>\n",
       "  <tbody>\n",
       "    <tr>\n",
       "      <th>0</th>\n",
       "      <td>30.07.2020</td>\n",
       "      <td>Axantoonya</td>\n",
       "      <td>5 von 5</td>\n",
       "      <td>5</td>\n",
       "      <td>Nicht verbessert eher verschlechtert</td>\n",
       "      <td>Leider ist diese App viel umständlicher und ei...</td>\n",
       "      <td>Danke für dein ausführliches Feedback, Axantoo...</td>\n",
       "    </tr>\n",
       "    <tr>\n",
       "      <th>1</th>\n",
       "      <td>28.07.2020</td>\n",
       "      <td>Superdirk2</td>\n",
       "      <td>5 von 5</td>\n",
       "      <td>5</td>\n",
       "      <td>Gelungenes Design und gute Funktionalität</td>\n",
       "      <td>Gegenüber der alten App ein echter Fortschritt...</td>\n",
       "      <td>Ist notiert. Herzlichen Dank für dein Feedback...</td>\n",
       "    </tr>\n",
       "    <tr>\n",
       "      <th>2</th>\n",
       "      <td>11.08.2020</td>\n",
       "      <td>Kasi607</td>\n",
       "      <td>5 von 5</td>\n",
       "      <td>5</td>\n",
       "      <td>Mindestens ein Schritt zurück als nach vorn!</td>\n",
       "      <td>Ich finde die neue App ist eher ein Rückschrit...</td>\n",
       "      <td>Der nehmen wir uns gerne an, Kasi607! 😊 Wir be...</td>\n",
       "    </tr>\n",
       "    <tr>\n",
       "      <th>3</th>\n",
       "      <td>27.07.2020</td>\n",
       "      <td>BerlinFrischi</td>\n",
       "      <td>5 von 5</td>\n",
       "      <td>5</td>\n",
       "      <td>Sehr schön</td>\n",
       "      <td>Ich bin froh, dass es endlich eine App für mei...</td>\n",
       "      <td>Das nächste Update steht schon in den Startlöc...</td>\n",
       "    </tr>\n",
       "    <tr>\n",
       "      <th>4</th>\n",
       "      <td>29.07.2020</td>\n",
       "      <td>Sven-Auke</td>\n",
       "      <td>5 von 5</td>\n",
       "      <td>5</td>\n",
       "      <td>Bin gespannt auf weitere Funktionen</td>\n",
       "      <td>Mir gefällt die App sehr gutbürgerlich auch sc...</td>\n",
       "      <td>Herzlichen Dank, Sven! 😍👍</td>\n",
       "    </tr>\n",
       "    <tr>\n",
       "      <th>5</th>\n",
       "      <td>19.11.2020</td>\n",
       "      <td>Saffa_Al</td>\n",
       "      <td>5 von 5</td>\n",
       "      <td>5</td>\n",
       "      <td>Nie mehr ohne!</td>\n",
       "      <td>Ich dachte schon, dass die alte App klasse ist...</td>\n",
       "      <td>Daran arbeiten wir schon. Danke für dein tolle...</td>\n",
       "    </tr>\n",
       "    <tr>\n",
       "      <th>6</th>\n",
       "      <td>30.07.2020</td>\n",
       "      <td>Paull001</td>\n",
       "      <td>4 von 5</td>\n",
       "      <td>4</td>\n",
       "      <td>Gute Features</td>\n",
       "      <td>Übersichtlich!</td>\n",
       "      <td>Herzlichen Dank, Paull001! 🤗</td>\n",
       "    </tr>\n",
       "    <tr>\n",
       "      <th>7</th>\n",
       "      <td>03.10.2020</td>\n",
       "      <td>flogsc</td>\n",
       "      <td>5 von 5</td>\n",
       "      <td>5</td>\n",
       "      <td>Übersichtlich, schnell, einfach</td>\n",
       "      <td>Super geworden nach der Neuauflage. Die App is...</td>\n",
       "      <td>😍👍 Dankeschön, flogsc!</td>\n",
       "    </tr>\n",
       "    <tr>\n",
       "      <th>8</th>\n",
       "      <td>07.12.2020</td>\n",
       "      <td>Nautica911</td>\n",
       "      <td>4 von 5</td>\n",
       "      <td>4</td>\n",
       "      <td>Nicht immer zuverlässig</td>\n",
       "      <td>Die App hat sich sehr verbessert, lediglich di...</td>\n",
       "      <td>Herzlichen Dank für dein Feedback, Nautica911!...</td>\n",
       "    </tr>\n",
       "    <tr>\n",
       "      <th>9</th>\n",
       "      <td>22.09.2020</td>\n",
       "      <td>Spacy333</td>\n",
       "      <td>4 von 5</td>\n",
       "      <td>4</td>\n",
       "      <td>Leider nur 4 Sterne</td>\n",
       "      <td>Leider funktioniert die App nach der Erneuerun...</td>\n",
       "      <td>Hallo Spacy333, die Synchronisierung und Anzei...</td>\n",
       "    </tr>\n",
       "    <tr>\n",
       "      <th>10</th>\n",
       "      <td>04.08.2020</td>\n",
       "      <td>Funskater</td>\n",
       "      <td>5 von 5</td>\n",
       "      <td>5</td>\n",
       "      <td>Wo finde ich mein zweites Fahrzeug? Gefunden...</td>\n",
       "      <td>Update 4.8.\\nAntwort auf meine Rezension inner...</td>\n",
       "      <td>Hallo Funskater! Wir haben die \"Garage\" verbes...</td>\n",
       "    </tr>\n",
       "    <tr>\n",
       "      <th>11</th>\n",
       "      <td>11.02.2021</td>\n",
       "      <td>Doriantt20014</td>\n",
       "      <td>5 von 5</td>\n",
       "      <td>5</td>\n",
       "      <td>Sehr gut App</td>\n",
       "      <td>Übersichtlich und hilfreich</td>\n",
       "      <td>Herzlichen Dank, Doriantt20014!</td>\n",
       "    </tr>\n",
       "    <tr>\n",
       "      <th>12</th>\n",
       "      <td>21.02.2021</td>\n",
       "      <td>Labdii</td>\n",
       "      <td>5 von 5</td>\n",
       "      <td>5</td>\n",
       "      <td>Diese App ist gelungen!!!!</td>\n",
       "      <td>Zur Vorgänger App ist diese Mercedes Me App eu...</td>\n",
       "      <td>Danke für dein Update, Labdii!</td>\n",
       "    </tr>\n",
       "    <tr>\n",
       "      <th>13</th>\n",
       "      <td>23.09.2020</td>\n",
       "      <td>Higate80</td>\n",
       "      <td>3 von 5</td>\n",
       "      <td>3</td>\n",
       "      <td>Es gibt noch viel zu tun!</td>\n",
       "      <td>Heute festgestellt, dass die App ständig nur d...</td>\n",
       "      <td>Danke für deine neue Rückmeldung, Higate80! 👍 ...</td>\n",
       "    </tr>\n",
       "    <tr>\n",
       "      <th>14</th>\n",
       "      <td>18.02.2021</td>\n",
       "      <td>HannaKaren</td>\n",
       "      <td>5 von 5</td>\n",
       "      <td>5</td>\n",
       "      <td>Übersichtlich und schön</td>\n",
       "      <td>Das Design ist sehr ansprechend und die Funkti...</td>\n",
       "      <td>Das freut uns, HannaKaren! Danke für dein Feed...</td>\n",
       "    </tr>\n",
       "    <tr>\n",
       "      <th>15</th>\n",
       "      <td>08.01.2021</td>\n",
       "      <td>MG.Ducky</td>\n",
       "      <td>5 von 5</td>\n",
       "      <td>5</td>\n",
       "      <td>Läuft richtig gut!!!</td>\n",
       "      <td>Die läuft sehr stabil und gibt auf sehr übersi...</td>\n",
       "      <td>Wir danken für dein Feedback, MG.Ducky! 👌👍</td>\n",
       "    </tr>\n",
       "    <tr>\n",
       "      <th>16</th>\n",
       "      <td>14.08.2020</td>\n",
       "      <td>nix gibts</td>\n",
       "      <td>5 von 5</td>\n",
       "      <td>5</td>\n",
       "      <td>Funktioniert nicht mehr - und dann doch wieder</td>\n",
       "      <td>Nach Update funktionieren die (gekauften und b...</td>\n",
       "      <td>Hallo nix gibts, bitte melde dich zur genauen ...</td>\n",
       "    </tr>\n",
       "    <tr>\n",
       "      <th>17</th>\n",
       "      <td>10.08.2020</td>\n",
       "      <td>Budfinger</td>\n",
       "      <td>5 von 5</td>\n",
       "      <td>5</td>\n",
       "      <td>Sehr gut!!</td>\n",
       "      <td>Besser als die alte App und übersichtlich.</td>\n",
       "      <td>Herzlichen Dank, Budfinger! 🤗😊👍</td>\n",
       "    </tr>\n",
       "    <tr>\n",
       "      <th>18</th>\n",
       "      <td>26.10.2020</td>\n",
       "      <td>uk1310</td>\n",
       "      <td>5 von 5</td>\n",
       "      <td>5</td>\n",
       "      <td>Übersichtlich, doch nicht zuverlässig</td>\n",
       "      <td>Seit der neuen Version aktualisieren sich die ...</td>\n",
       "      <td>Bitte entschuldige, uk1310. Nach einem Update ...</td>\n",
       "    </tr>\n",
       "    <tr>\n",
       "      <th>19</th>\n",
       "      <td>08.08.2020</td>\n",
       "      <td>Heriminandus3.0</td>\n",
       "      <td>5 von 5</td>\n",
       "      <td>5</td>\n",
       "      <td>10 von 10 Punkten</td>\n",
       "      <td>Unglaublich gut und übersichtlich das ist gena...</td>\n",
       "      <td>Das freut uns sehr. Vielen lieben Dank, Herimi...</td>\n",
       "    </tr>\n",
       "    <tr>\n",
       "      <th>20</th>\n",
       "      <td>31.07.2020</td>\n",
       "      <td>Pascha 23223</td>\n",
       "      <td>5 von 5</td>\n",
       "      <td>5</td>\n",
       "      <td>Verschlechterung</td>\n",
       "      <td>Die APP finde ich persönlich nicht mehr so übe...</td>\n",
       "      <td>Hallo Pascha 23223, bitte melde dich zur genau...</td>\n",
       "    </tr>\n",
       "    <tr>\n",
       "      <th>21</th>\n",
       "      <td>25.12.2020</td>\n",
       "      <td>Rizdo</td>\n",
       "      <td>5 von 5</td>\n",
       "      <td>5</td>\n",
       "      <td>Buggy</td>\n",
       "      <td>Transaktionen werden nicht angezeigt, Durchsch...</td>\n",
       "      <td>Danke für dein neues Feedback, Rizdo. Weitere ...</td>\n",
       "    </tr>\n",
       "    <tr>\n",
       "      <th>22</th>\n",
       "      <td>23.09.2020</td>\n",
       "      <td>Simonhoechst</td>\n",
       "      <td>3 von 5</td>\n",
       "      <td>3</td>\n",
       "      <td>Super Design, leider seit dem Update Probleme</td>\n",
       "      <td>Das Design und die Features sind wirklich gut ...</td>\n",
       "      <td>Bitte entschuldige, Simonhoechst! Das greifen ...</td>\n",
       "    </tr>\n",
       "    <tr>\n",
       "      <th>23</th>\n",
       "      <td>30.07.2020</td>\n",
       "      <td>rudihaus</td>\n",
       "      <td>5 von 5</td>\n",
       "      <td>5</td>\n",
       "      <td>Richtig gut</td>\n",
       "      <td>Liebes Softwareteam,\\nIhr habt tolle Arbeit ge...</td>\n",
       "      <td>Vielen herzlichen Dank, Rudi. Das geht runter ...</td>\n",
       "    </tr>\n",
       "    <tr>\n",
       "      <th>24</th>\n",
       "      <td>23.09.2020</td>\n",
       "      <td>ABuddel</td>\n",
       "      <td>5 von 5</td>\n",
       "      <td>5</td>\n",
       "      <td>Katastrophe auch nach 2 /3 Wochen!</td>\n",
       "      <td>Standort Erfassung funktioniert nicht/ Luftdru...</td>\n",
       "      <td>Vielen herzlichen Dank, ABuddel! 😊😍👍</td>\n",
       "    </tr>\n",
       "    <tr>\n",
       "      <th>25</th>\n",
       "      <td>16.09.2020</td>\n",
       "      <td>Julian J. Maurer</td>\n",
       "      <td>5 von 5</td>\n",
       "      <td>5</td>\n",
       "      <td>Gelungene Neuauflage</td>\n",
       "      <td>Die neue Mercedes Me App ist absolut gelungen ...</td>\n",
       "      <td>Die Apple Watch Unterstützung ist bald zurück,...</td>\n",
       "    </tr>\n",
       "    <tr>\n",
       "      <th>26</th>\n",
       "      <td>14.09.2020</td>\n",
       "      <td>Andiburk</td>\n",
       "      <td>5 von 5</td>\n",
       "      <td>5</td>\n",
       "      <td>Endlich!!!</td>\n",
       "      <td>Endlich funktioniert die App so wie sie schon ...</td>\n",
       "      <td>Vielen herzlichen Dank, Andiburk! 😍👍</td>\n",
       "    </tr>\n",
       "    <tr>\n",
       "      <th>27</th>\n",
       "      <td>05.08.2020</td>\n",
       "      <td>LittleStripes</td>\n",
       "      <td>5 von 5</td>\n",
       "      <td>5</td>\n",
       "      <td>Mercedes me 2020</td>\n",
       "      <td>Sehr übersichtlich, deutlich mehr Informatione...</td>\n",
       "      <td>👍😊👍</td>\n",
       "    </tr>\n",
       "    <tr>\n",
       "      <th>28</th>\n",
       "      <td>24.07.2020</td>\n",
       "      <td>Butto123456</td>\n",
       "      <td>5 von 5</td>\n",
       "      <td>5</td>\n",
       "      <td>Gelungen</td>\n",
       "      <td>Im Vergleich zur alten Version läuft diese vie...</td>\n",
       "      <td>Danke für die lieben Worte und die tolle Bewer...</td>\n",
       "    </tr>\n",
       "    <tr>\n",
       "      <th>29</th>\n",
       "      <td>02.08.2020</td>\n",
       "      <td>Chris13Chris13</td>\n",
       "      <td>5 von 5</td>\n",
       "      <td>5</td>\n",
       "      <td>Übersichtlich, einfach und voller Features</td>\n",
       "      <td>Die neue App funktioniert super einfach und is...</td>\n",
       "      <td>Vielen herzlichen Dank, Chris13Chris13! 👍😍👍</td>\n",
       "    </tr>\n",
       "    <tr>\n",
       "      <th>30</th>\n",
       "      <td>30.08.2020</td>\n",
       "      <td>mattgl</td>\n",
       "      <td>5 von 5</td>\n",
       "      <td>5</td>\n",
       "      <td>Ohne kostenpflichtige Dienste völlig wertlos</td>\n",
       "      <td>Mein Leasingvertrag ist jetzt etwas älter als ...</td>\n",
       "      <td>Bitte entschuldige die Umstände, mattgl! Unser...</td>\n",
       "    </tr>\n",
       "    <tr>\n",
       "      <th>31</th>\n",
       "      <td>15.08.2020</td>\n",
       "      <td>gurkenstein</td>\n",
       "      <td>5 von 5</td>\n",
       "      <td>5</td>\n",
       "      <td>Läuft!</td>\n",
       "      <td>Mit der neuen Version läuft es auf iOS einwand...</td>\n",
       "      <td>Wir entschuldigen uns für die Unannehmlichkeit...</td>\n",
       "    </tr>\n",
       "    <tr>\n",
       "      <th>32</th>\n",
       "      <td>30.07.2020</td>\n",
       "      <td>lazo_77</td>\n",
       "      <td>5 von 5</td>\n",
       "      <td>5</td>\n",
       "      <td>Sehr schönes Design! Einfach und übersichtlich...</td>\n",
       "      <td>Das Design gibt jetzt endlich was her - „Merce...</td>\n",
       "      <td>😍😉👍 Herzlichen Dank, lazo_77!</td>\n",
       "    </tr>\n",
       "    <tr>\n",
       "      <th>33</th>\n",
       "      <td>27.07.2020</td>\n",
       "      <td>Maggi.....top01</td>\n",
       "      <td>5 von 5</td>\n",
       "      <td>5</td>\n",
       "      <td>Leider funktioniert die App nicht</td>\n",
       "      <td>....sie zeigt immer Laufzeitfehler bei der Anm...</td>\n",
       "      <td>Wir entschuldigen uns für die Unannehmlichkeit...</td>\n",
       "    </tr>\n",
       "    <tr>\n",
       "      <th>34</th>\n",
       "      <td>09.08.2020</td>\n",
       "      <td>Koicondor</td>\n",
       "      <td>5 von 5</td>\n",
       "      <td>5</td>\n",
       "      <td>Echt super und wichtig</td>\n",
       "      <td>Die neue App ist deutlich besser als die alte....</td>\n",
       "      <td>Vielen herzlichen Dank, Koicondor! 🤗😊👍</td>\n",
       "    </tr>\n",
       "    <tr>\n",
       "      <th>35</th>\n",
       "      <td>12.01.2021</td>\n",
       "      <td>Pepper2601</td>\n",
       "      <td>4 von 5</td>\n",
       "      <td>4</td>\n",
       "      <td>Gute App - Kritik trotzdem</td>\n",
       "      <td>Ich verwende nun schon seit Jahren MercedesMe ...</td>\n",
       "      <td>Da ist tatsächlich schon was in Arbeit. Danke ...</td>\n",
       "    </tr>\n",
       "    <tr>\n",
       "      <th>36</th>\n",
       "      <td>20.02.2021</td>\n",
       "      <td>WunschSpitznamenVergeben</td>\n",
       "      <td>2 von 5</td>\n",
       "      <td>2</td>\n",
       "      <td>Gute Idee, aber nicht durchdacht</td>\n",
       "      <td>Die App ist grds eine gute Idee. Allerdings si...</td>\n",
       "      <td>Bitte entschuldige, WunschSpitznamenVergeben! ...</td>\n",
       "    </tr>\n",
       "    <tr>\n",
       "      <th>37</th>\n",
       "      <td>03.07.2021</td>\n",
       "      <td>Frank.fd.deu</td>\n",
       "      <td>5 von 5</td>\n",
       "      <td>5</td>\n",
       "      <td>Klasse, trotzdem nachbessern</td>\n",
       "      <td>Die App ist sehr übersichtlich gestaltet und l...</td>\n",
       "      <td>Schon unterwegs, Frank. Danke für dein Feedbac...</td>\n",
       "    </tr>\n",
       "    <tr>\n",
       "      <th>38</th>\n",
       "      <td>30.07.2020</td>\n",
       "      <td>Baltic Breeze</td>\n",
       "      <td>5 von 5</td>\n",
       "      <td>5</td>\n",
       "      <td>Macht Lust auf mehr</td>\n",
       "      <td>Sehr gutes Design und viele nützliche Funktion...</td>\n",
       "      <td>Geht klar, Baltic Breeze! 😊👍</td>\n",
       "    </tr>\n",
       "    <tr>\n",
       "      <th>39</th>\n",
       "      <td>13.05.2021</td>\n",
       "      <td>!MI1979!</td>\n",
       "      <td>3 von 5</td>\n",
       "      <td>3</td>\n",
       "      <td>Vorklimatisierung</td>\n",
       "      <td>Liebes Mercedes-Team, vorab möchte mich für di...</td>\n",
       "      <td>Danke für dein Feedback, !MI1979! Wir arbeiten...</td>\n",
       "    </tr>\n",
       "    <tr>\n",
       "      <th>40</th>\n",
       "      <td>21.07.2020</td>\n",
       "      <td>Strohmer</td>\n",
       "      <td>5 von 5</td>\n",
       "      <td>5</td>\n",
       "      <td>Tolle neue Version!!!</td>\n",
       "      <td>Übersichtlicher und mit neuen Funktionen. Endl...</td>\n",
       "      <td>Herzlichen Dank, Strohmer! 🤗</td>\n",
       "    </tr>\n",
       "    <tr>\n",
       "      <th>41</th>\n",
       "      <td>04.06.2021</td>\n",
       "      <td>Forever_2000</td>\n",
       "      <td>5 von 5</td>\n",
       "      <td>5</td>\n",
       "      <td>Gut gemacht…</td>\n",
       "      <td>Tolle Unterstützung z.B. der Reminder nach 5 M...</td>\n",
       "      <td>Herzlichen Dank für dein tolles Feedback, Fore...</td>\n",
       "    </tr>\n",
       "    <tr>\n",
       "      <th>42</th>\n",
       "      <td>25.08.2020</td>\n",
       "      <td>Kuehnclan</td>\n",
       "      <td>3 von 5</td>\n",
       "      <td>3</td>\n",
       "      <td>Wen da nicht dauernd dran gebastelt wird</td>\n",
       "      <td>Fahre seit 16 Jahren MB und den ersten seit 2 ...</td>\n",
       "      <td>Danke für deine offenen Worte, Kuehnclan! Sei ...</td>\n",
       "    </tr>\n",
       "    <tr>\n",
       "      <th>43</th>\n",
       "      <td>29.07.2020</td>\n",
       "      <td>AMG-Lover</td>\n",
       "      <td>4 von 5</td>\n",
       "      <td>4</td>\n",
       "      <td>Cool aber noch Verbesserungspotential</td>\n",
       "      <td>Coole App, cooles Design, aber noch mit Verbes...</td>\n",
       "      <td>Danke für dein ausführliches Feedback, AMG-Lov...</td>\n",
       "    </tr>\n",
       "    <tr>\n",
       "      <th>44</th>\n",
       "      <td>28.04.2021</td>\n",
       "      <td>1222yxz</td>\n",
       "      <td>5 von 5</td>\n",
       "      <td>5</td>\n",
       "      <td>Inhalte der App</td>\n",
       "      <td>Die Möglichkeiten die die App bietet sind sehr...</td>\n",
       "      <td>Bitte entschuldige, 1222yxz! Melde dich zur ge...</td>\n",
       "    </tr>\n",
       "    <tr>\n",
       "      <th>45</th>\n",
       "      <td>29.07.2020</td>\n",
       "      <td>App -Tester Mike</td>\n",
       "      <td>5 von 5</td>\n",
       "      <td>5</td>\n",
       "      <td>Haben sie die „Bremsbelagsinfo“ eingespart?</td>\n",
       "      <td>Die erste App fand ich übersichtlicher. Den Sc...</td>\n",
       "      <td>Keine Sorge, Mike. Die Verschleiß-Anzeige beko...</td>\n",
       "    </tr>\n",
       "    <tr>\n",
       "      <th>46</th>\n",
       "      <td>10.05.2021</td>\n",
       "      <td>alessio_d</td>\n",
       "      <td>5 von 5</td>\n",
       "      <td>5</td>\n",
       "      <td>iPhone 12 Nutzer: App neu runterladen</td>\n",
       "      <td>iPhone 12 iOS 14.1 und nachfolgende Versionen:...</td>\n",
       "      <td>Vielen Dank für dein Update, Alessio! 😍👍</td>\n",
       "    </tr>\n",
       "    <tr>\n",
       "      <th>47</th>\n",
       "      <td>28.07.2020</td>\n",
       "      <td>fghhjbc GL</td>\n",
       "      <td>4 von 5</td>\n",
       "      <td>4</td>\n",
       "      <td>Kompatibilität mit Smart watch</td>\n",
       "      <td>Leider kann ich jetzt die Funktionen mit der A...</td>\n",
       "      <td>Ohne jetzt schon zu viel zu verraten können wi...</td>\n",
       "    </tr>\n",
       "    <tr>\n",
       "      <th>48</th>\n",
       "      <td>09.10.2020</td>\n",
       "      <td>cstechnik</td>\n",
       "      <td>4 von 5</td>\n",
       "      <td>4</td>\n",
       "      <td>Und jetzt geht gar nichts mehr</td>\n",
       "      <td>Leider kann man keine - Sterne für die App ver...</td>\n",
       "      <td>Wir entschuldigen uns in aller Form für die Un...</td>\n",
       "    </tr>\n",
       "    <tr>\n",
       "      <th>49</th>\n",
       "      <td>03.08.2020</td>\n",
       "      <td>Stoneeagle</td>\n",
       "      <td>3 von 5</td>\n",
       "      <td>3</td>\n",
       "      <td>Verbindung zum Fahrzeug klappt nur sporadisch</td>\n",
       "      <td>Was nützen die tollen neuen Funktionen denn, w...</td>\n",
       "      <td>Hallo Stoneeagle, gibt es vielleicht schon neu...</td>\n",
       "    </tr>\n",
       "    <tr>\n",
       "      <th>50</th>\n",
       "      <td>29.07.2020</td>\n",
       "      <td>Gerdinjo</td>\n",
       "      <td>5 von 5</td>\n",
       "      <td>5</td>\n",
       "      <td>???</td>\n",
       "      <td>Zeigt mir nicht von Auto an , muß ich erst mit...</td>\n",
       "      <td>Hallo Gerdinjo! Hast du deinen Mercedes-Benz s...</td>\n",
       "    </tr>\n",
       "    <tr>\n",
       "      <th>51</th>\n",
       "      <td>14.09.2020</td>\n",
       "      <td>Zipfree</td>\n",
       "      <td>5 von 5</td>\n",
       "      <td>5</td>\n",
       "      <td>Prima Sache</td>\n",
       "      <td>Ein paar nützliche Gimmicks was einem das Lebe...</td>\n",
       "      <td>😍👍👌</td>\n",
       "    </tr>\n",
       "    <tr>\n",
       "      <th>52</th>\n",
       "      <td>28.07.2020</td>\n",
       "      <td>peterlustig1324</td>\n",
       "      <td>4 von 5</td>\n",
       "      <td>4</td>\n",
       "      <td>Übersichtlich!</td>\n",
       "      <td>Gut umgesetzt. Reagiert deutlich schneller als...</td>\n",
       "      <td>Herzlichen Dank für dein Feedback, peterlustig...</td>\n",
       "    </tr>\n",
       "    <tr>\n",
       "      <th>53</th>\n",
       "      <td>24.07.2020</td>\n",
       "      <td>bw666</td>\n",
       "      <td>5 von 5</td>\n",
       "      <td>5</td>\n",
       "      <td>grafisch ganz nett, aber</td>\n",
       "      <td>Kartenmaterial ist veraltet, das konnte die „a...</td>\n",
       "      <td>Danke für dein Feedback, bw666. Wir ruhen uns ...</td>\n",
       "    </tr>\n",
       "    <tr>\n",
       "      <th>54</th>\n",
       "      <td>27.10.2020</td>\n",
       "      <td>Stern_Dee</td>\n",
       "      <td>5 von 5</td>\n",
       "      <td>5</td>\n",
       "      <td>Reisedaten aktualisiert nicht</td>\n",
       "      <td>Ich war eigentlich immer zufrieden mit dieser ...</td>\n",
       "      <td>Bitte entschuldige, Stern_Dee. Nach einem Upda...</td>\n",
       "    </tr>\n",
       "    <tr>\n",
       "      <th>55</th>\n",
       "      <td>11.03.2021</td>\n",
       "      <td>… .. … .. ...</td>\n",
       "      <td>4 von 5</td>\n",
       "      <td>4</td>\n",
       "      <td>Gute App</td>\n",
       "      <td>Die App läuft weitestgehend stabil und ist int...</td>\n",
       "      <td>Tolles neues Feedback. 👍 Danke dir!</td>\n",
       "    </tr>\n",
       "    <tr>\n",
       "      <th>56</th>\n",
       "      <td>29.11.2020</td>\n",
       "      <td>MBE300de</td>\n",
       "      <td>5 von 5</td>\n",
       "      <td>5</td>\n",
       "      <td>Sehr schön - aber Status „Deaktivierung läuft“...</td>\n",
       "      <td>Macht Spaß mit der App zu arbeiten. Das Handli...</td>\n",
       "      <td>Danke für dein Feedback, MBE300de! Melde dich ...</td>\n",
       "    </tr>\n",
       "    <tr>\n",
       "      <th>57</th>\n",
       "      <td>21.10.2020</td>\n",
       "      <td>Katha Abu</td>\n",
       "      <td>4 von 5</td>\n",
       "      <td>4</td>\n",
       "      <td>Grundsätzlich zufrieden</td>\n",
       "      <td>Finde die neue Mercedes Me App im Vergleich zu...</td>\n",
       "      <td>Hallo Katha und herzlichen Dank für dein Feedb...</td>\n",
       "    </tr>\n",
       "    <tr>\n",
       "      <th>58</th>\n",
       "      <td>09.10.2020</td>\n",
       "      <td>Arathlon</td>\n",
       "      <td>4 von 5</td>\n",
       "      <td>4</td>\n",
       "      <td>Zunehmende Fehlerbehebung</td>\n",
       "      <td>Die Mitteilungen dass der Startvorgang des Lad...</td>\n",
       "      <td>Danke für deine neue Rückmeldung, Arathlon. Da...</td>\n",
       "    </tr>\n",
       "    <tr>\n",
       "      <th>59</th>\n",
       "      <td>29.07.2020</td>\n",
       "      <td>hus91</td>\n",
       "      <td>4 von 5</td>\n",
       "      <td>4</td>\n",
       "      <td>Gelungenes Design jedoch mit Bugs</td>\n",
       "      <td>Das Design gefällt mir sehr gut. Jedoch gibt e...</td>\n",
       "      <td>Ist gerade erschienen, hus91! 😉 Bitte update a...</td>\n",
       "    </tr>\n",
       "  </tbody>\n",
       "</table>\n",
       "</div>"
      ],
      "text/plain": [
       "          date                      user   rating  rating_calc  \\\n",
       "0   30.07.2020                Axantoonya  5 von 5            5   \n",
       "1   28.07.2020                Superdirk2  5 von 5            5   \n",
       "2   11.08.2020                   Kasi607  5 von 5            5   \n",
       "3   27.07.2020             BerlinFrischi  5 von 5            5   \n",
       "4   29.07.2020                 Sven-Auke  5 von 5            5   \n",
       "5   19.11.2020                  Saffa_Al  5 von 5            5   \n",
       "6   30.07.2020                  Paull001  4 von 5            4   \n",
       "7   03.10.2020                    flogsc  5 von 5            5   \n",
       "8   07.12.2020                Nautica911  4 von 5            4   \n",
       "9   22.09.2020                  Spacy333  4 von 5            4   \n",
       "10  04.08.2020                 Funskater  5 von 5            5   \n",
       "11  11.02.2021             Doriantt20014  5 von 5            5   \n",
       "12  21.02.2021                    Labdii  5 von 5            5   \n",
       "13  23.09.2020                  Higate80  3 von 5            3   \n",
       "14  18.02.2021                HannaKaren  5 von 5            5   \n",
       "15  08.01.2021                  MG.Ducky  5 von 5            5   \n",
       "16  14.08.2020                 nix gibts  5 von 5            5   \n",
       "17  10.08.2020                 Budfinger  5 von 5            5   \n",
       "18  26.10.2020                    uk1310  5 von 5            5   \n",
       "19  08.08.2020           Heriminandus3.0  5 von 5            5   \n",
       "20  31.07.2020              Pascha 23223  5 von 5            5   \n",
       "21  25.12.2020                     Rizdo  5 von 5            5   \n",
       "22  23.09.2020              Simonhoechst  3 von 5            3   \n",
       "23  30.07.2020                  rudihaus  5 von 5            5   \n",
       "24  23.09.2020                   ABuddel  5 von 5            5   \n",
       "25  16.09.2020          Julian J. Maurer  5 von 5            5   \n",
       "26  14.09.2020                  Andiburk  5 von 5            5   \n",
       "27  05.08.2020             LittleStripes  5 von 5            5   \n",
       "28  24.07.2020               Butto123456  5 von 5            5   \n",
       "29  02.08.2020            Chris13Chris13  5 von 5            5   \n",
       "30  30.08.2020                    mattgl  5 von 5            5   \n",
       "31  15.08.2020               gurkenstein  5 von 5            5   \n",
       "32  30.07.2020                   lazo_77  5 von 5            5   \n",
       "33  27.07.2020           Maggi.....top01  5 von 5            5   \n",
       "34  09.08.2020                 Koicondor  5 von 5            5   \n",
       "35  12.01.2021                Pepper2601  4 von 5            4   \n",
       "36  20.02.2021  WunschSpitznamenVergeben  2 von 5            2   \n",
       "37  03.07.2021              Frank.fd.deu  5 von 5            5   \n",
       "38  30.07.2020             Baltic Breeze  5 von 5            5   \n",
       "39  13.05.2021                  !MI1979!  3 von 5            3   \n",
       "40  21.07.2020                  Strohmer  5 von 5            5   \n",
       "41  04.06.2021              Forever_2000  5 von 5            5   \n",
       "42  25.08.2020                 Kuehnclan  3 von 5            3   \n",
       "43  29.07.2020                 AMG-Lover  4 von 5            4   \n",
       "44  28.04.2021                   1222yxz  5 von 5            5   \n",
       "45  29.07.2020          App -Tester Mike  5 von 5            5   \n",
       "46  10.05.2021                 alessio_d  5 von 5            5   \n",
       "47  28.07.2020                fghhjbc GL  4 von 5            4   \n",
       "48  09.10.2020                 cstechnik  4 von 5            4   \n",
       "49  03.08.2020                Stoneeagle  3 von 5            3   \n",
       "50  29.07.2020                  Gerdinjo  5 von 5            5   \n",
       "51  14.09.2020                   Zipfree  5 von 5            5   \n",
       "52  28.07.2020           peterlustig1324  4 von 5            4   \n",
       "53  24.07.2020                     bw666  5 von 5            5   \n",
       "54  27.10.2020                 Stern_Dee  5 von 5            5   \n",
       "55  11.03.2021             … .. … .. ...  4 von 5            4   \n",
       "56  29.11.2020                  MBE300de  5 von 5            5   \n",
       "57  21.10.2020                 Katha Abu  4 von 5            4   \n",
       "58  09.10.2020                  Arathlon  4 von 5            4   \n",
       "59  29.07.2020                     hus91  4 von 5            4   \n",
       "\n",
       "                                                title  \\\n",
       "0                Nicht verbessert eher verschlechtert   \n",
       "1           Gelungenes Design und gute Funktionalität   \n",
       "2        Mindestens ein Schritt zurück als nach vorn!   \n",
       "3                                          Sehr schön   \n",
       "4                 Bin gespannt auf weitere Funktionen   \n",
       "5                                      Nie mehr ohne!   \n",
       "6                                       Gute Features   \n",
       "7                     Übersichtlich, schnell, einfach   \n",
       "8                             Nicht immer zuverlässig   \n",
       "9                                 Leider nur 4 Sterne   \n",
       "10    Wo finde ich mein zweites Fahrzeug? Gefunden...   \n",
       "11                                       Sehr gut App   \n",
       "12                         Diese App ist gelungen!!!!   \n",
       "13                          Es gibt noch viel zu tun!   \n",
       "14                            Übersichtlich und schön   \n",
       "15                               Läuft richtig gut!!!   \n",
       "16     Funktioniert nicht mehr - und dann doch wieder   \n",
       "17                                         Sehr gut!!   \n",
       "18              Übersichtlich, doch nicht zuverlässig   \n",
       "19                                  10 von 10 Punkten   \n",
       "20                                   Verschlechterung   \n",
       "21                                              Buggy   \n",
       "22      Super Design, leider seit dem Update Probleme   \n",
       "23                                        Richtig gut   \n",
       "24                 Katastrophe auch nach 2 /3 Wochen!   \n",
       "25                               Gelungene Neuauflage   \n",
       "26                                         Endlich!!!   \n",
       "27                                   Mercedes me 2020   \n",
       "28                                           Gelungen   \n",
       "29         Übersichtlich, einfach und voller Features   \n",
       "30       Ohne kostenpflichtige Dienste völlig wertlos   \n",
       "31                                             Läuft!   \n",
       "32  Sehr schönes Design! Einfach und übersichtlich...   \n",
       "33                  Leider funktioniert die App nicht   \n",
       "34                             Echt super und wichtig   \n",
       "35                         Gute App - Kritik trotzdem   \n",
       "36                   Gute Idee, aber nicht durchdacht   \n",
       "37                       Klasse, trotzdem nachbessern   \n",
       "38                                Macht Lust auf mehr   \n",
       "39                                  Vorklimatisierung   \n",
       "40                              Tolle neue Version!!!   \n",
       "41                                       Gut gemacht…   \n",
       "42           Wen da nicht dauernd dran gebastelt wird   \n",
       "43              Cool aber noch Verbesserungspotential   \n",
       "44                                    Inhalte der App   \n",
       "45        Haben sie die „Bremsbelagsinfo“ eingespart?   \n",
       "46              iPhone 12 Nutzer: App neu runterladen   \n",
       "47                     Kompatibilität mit Smart watch   \n",
       "48                     Und jetzt geht gar nichts mehr   \n",
       "49      Verbindung zum Fahrzeug klappt nur sporadisch   \n",
       "50                                                ???   \n",
       "51                                        Prima Sache   \n",
       "52                                     Übersichtlich!   \n",
       "53                           grafisch ganz nett, aber   \n",
       "54                      Reisedaten aktualisiert nicht   \n",
       "55                                           Gute App   \n",
       "56  Sehr schön - aber Status „Deaktivierung läuft“...   \n",
       "57                            Grundsätzlich zufrieden   \n",
       "58                          Zunehmende Fehlerbehebung   \n",
       "59                  Gelungenes Design jedoch mit Bugs   \n",
       "\n",
       "                                             feedback  \\\n",
       "0   Leider ist diese App viel umständlicher und ei...   \n",
       "1   Gegenüber der alten App ein echter Fortschritt...   \n",
       "2   Ich finde die neue App ist eher ein Rückschrit...   \n",
       "3   Ich bin froh, dass es endlich eine App für mei...   \n",
       "4   Mir gefällt die App sehr gutbürgerlich auch sc...   \n",
       "5   Ich dachte schon, dass die alte App klasse ist...   \n",
       "6                                      Übersichtlich!   \n",
       "7   Super geworden nach der Neuauflage. Die App is...   \n",
       "8   Die App hat sich sehr verbessert, lediglich di...   \n",
       "9   Leider funktioniert die App nach der Erneuerun...   \n",
       "10  Update 4.8.\\nAntwort auf meine Rezension inner...   \n",
       "11                        Übersichtlich und hilfreich   \n",
       "12  Zur Vorgänger App ist diese Mercedes Me App eu...   \n",
       "13  Heute festgestellt, dass die App ständig nur d...   \n",
       "14  Das Design ist sehr ansprechend und die Funkti...   \n",
       "15  Die läuft sehr stabil und gibt auf sehr übersi...   \n",
       "16  Nach Update funktionieren die (gekauften und b...   \n",
       "17         Besser als die alte App und übersichtlich.   \n",
       "18  Seit der neuen Version aktualisieren sich die ...   \n",
       "19  Unglaublich gut und übersichtlich das ist gena...   \n",
       "20  Die APP finde ich persönlich nicht mehr so übe...   \n",
       "21  Transaktionen werden nicht angezeigt, Durchsch...   \n",
       "22  Das Design und die Features sind wirklich gut ...   \n",
       "23  Liebes Softwareteam,\\nIhr habt tolle Arbeit ge...   \n",
       "24  Standort Erfassung funktioniert nicht/ Luftdru...   \n",
       "25  Die neue Mercedes Me App ist absolut gelungen ...   \n",
       "26  Endlich funktioniert die App so wie sie schon ...   \n",
       "27  Sehr übersichtlich, deutlich mehr Informatione...   \n",
       "28  Im Vergleich zur alten Version läuft diese vie...   \n",
       "29  Die neue App funktioniert super einfach und is...   \n",
       "30  Mein Leasingvertrag ist jetzt etwas älter als ...   \n",
       "31  Mit der neuen Version läuft es auf iOS einwand...   \n",
       "32  Das Design gibt jetzt endlich was her - „Merce...   \n",
       "33  ....sie zeigt immer Laufzeitfehler bei der Anm...   \n",
       "34  Die neue App ist deutlich besser als die alte....   \n",
       "35  Ich verwende nun schon seit Jahren MercedesMe ...   \n",
       "36  Die App ist grds eine gute Idee. Allerdings si...   \n",
       "37  Die App ist sehr übersichtlich gestaltet und l...   \n",
       "38  Sehr gutes Design und viele nützliche Funktion...   \n",
       "39  Liebes Mercedes-Team, vorab möchte mich für di...   \n",
       "40  Übersichtlicher und mit neuen Funktionen. Endl...   \n",
       "41  Tolle Unterstützung z.B. der Reminder nach 5 M...   \n",
       "42  Fahre seit 16 Jahren MB und den ersten seit 2 ...   \n",
       "43  Coole App, cooles Design, aber noch mit Verbes...   \n",
       "44  Die Möglichkeiten die die App bietet sind sehr...   \n",
       "45  Die erste App fand ich übersichtlicher. Den Sc...   \n",
       "46  iPhone 12 iOS 14.1 und nachfolgende Versionen:...   \n",
       "47  Leider kann ich jetzt die Funktionen mit der A...   \n",
       "48  Leider kann man keine - Sterne für die App ver...   \n",
       "49  Was nützen die tollen neuen Funktionen denn, w...   \n",
       "50  Zeigt mir nicht von Auto an , muß ich erst mit...   \n",
       "51  Ein paar nützliche Gimmicks was einem das Lebe...   \n",
       "52  Gut umgesetzt. Reagiert deutlich schneller als...   \n",
       "53  Kartenmaterial ist veraltet, das konnte die „a...   \n",
       "54  Ich war eigentlich immer zufrieden mit dieser ...   \n",
       "55  Die App läuft weitestgehend stabil und ist int...   \n",
       "56  Macht Spaß mit der App zu arbeiten. Das Handli...   \n",
       "57  Finde die neue Mercedes Me App im Vergleich zu...   \n",
       "58  Die Mitteilungen dass der Startvorgang des Lad...   \n",
       "59  Das Design gefällt mir sehr gut. Jedoch gibt e...   \n",
       "\n",
       "                                             response  \n",
       "0   Danke für dein ausführliches Feedback, Axantoo...  \n",
       "1   Ist notiert. Herzlichen Dank für dein Feedback...  \n",
       "2   Der nehmen wir uns gerne an, Kasi607! 😊 Wir be...  \n",
       "3   Das nächste Update steht schon in den Startlöc...  \n",
       "4                           Herzlichen Dank, Sven! 😍👍  \n",
       "5   Daran arbeiten wir schon. Danke für dein tolle...  \n",
       "6                        Herzlichen Dank, Paull001! 🤗  \n",
       "7                              😍👍 Dankeschön, flogsc!  \n",
       "8   Herzlichen Dank für dein Feedback, Nautica911!...  \n",
       "9   Hallo Spacy333, die Synchronisierung und Anzei...  \n",
       "10  Hallo Funskater! Wir haben die \"Garage\" verbes...  \n",
       "11                    Herzlichen Dank, Doriantt20014!  \n",
       "12                     Danke für dein Update, Labdii!  \n",
       "13  Danke für deine neue Rückmeldung, Higate80! 👍 ...  \n",
       "14  Das freut uns, HannaKaren! Danke für dein Feed...  \n",
       "15         Wir danken für dein Feedback, MG.Ducky! 👌👍  \n",
       "16  Hallo nix gibts, bitte melde dich zur genauen ...  \n",
       "17                    Herzlichen Dank, Budfinger! 🤗😊👍  \n",
       "18  Bitte entschuldige, uk1310. Nach einem Update ...  \n",
       "19  Das freut uns sehr. Vielen lieben Dank, Herimi...  \n",
       "20  Hallo Pascha 23223, bitte melde dich zur genau...  \n",
       "21  Danke für dein neues Feedback, Rizdo. Weitere ...  \n",
       "22  Bitte entschuldige, Simonhoechst! Das greifen ...  \n",
       "23  Vielen herzlichen Dank, Rudi. Das geht runter ...  \n",
       "24               Vielen herzlichen Dank, ABuddel! 😊😍👍  \n",
       "25  Die Apple Watch Unterstützung ist bald zurück,...  \n",
       "26               Vielen herzlichen Dank, Andiburk! 😍👍  \n",
       "27                                                👍😊👍  \n",
       "28  Danke für die lieben Worte und die tolle Bewer...  \n",
       "29        Vielen herzlichen Dank, Chris13Chris13! 👍😍👍  \n",
       "30  Bitte entschuldige die Umstände, mattgl! Unser...  \n",
       "31  Wir entschuldigen uns für die Unannehmlichkeit...  \n",
       "32                      😍😉👍 Herzlichen Dank, lazo_77!  \n",
       "33  Wir entschuldigen uns für die Unannehmlichkeit...  \n",
       "34             Vielen herzlichen Dank, Koicondor! 🤗😊👍  \n",
       "35  Da ist tatsächlich schon was in Arbeit. Danke ...  \n",
       "36  Bitte entschuldige, WunschSpitznamenVergeben! ...  \n",
       "37  Schon unterwegs, Frank. Danke für dein Feedbac...  \n",
       "38                       Geht klar, Baltic Breeze! 😊👍  \n",
       "39  Danke für dein Feedback, !MI1979! Wir arbeiten...  \n",
       "40                       Herzlichen Dank, Strohmer! 🤗  \n",
       "41  Herzlichen Dank für dein tolles Feedback, Fore...  \n",
       "42  Danke für deine offenen Worte, Kuehnclan! Sei ...  \n",
       "43  Danke für dein ausführliches Feedback, AMG-Lov...  \n",
       "44  Bitte entschuldige, 1222yxz! Melde dich zur ge...  \n",
       "45  Keine Sorge, Mike. Die Verschleiß-Anzeige beko...  \n",
       "46           Vielen Dank für dein Update, Alessio! 😍👍  \n",
       "47  Ohne jetzt schon zu viel zu verraten können wi...  \n",
       "48  Wir entschuldigen uns in aller Form für die Un...  \n",
       "49  Hallo Stoneeagle, gibt es vielleicht schon neu...  \n",
       "50  Hallo Gerdinjo! Hast du deinen Mercedes-Benz s...  \n",
       "51                                                😍👍👌  \n",
       "52  Herzlichen Dank für dein Feedback, peterlustig...  \n",
       "53  Danke für dein Feedback, bw666. Wir ruhen uns ...  \n",
       "54  Bitte entschuldige, Stern_Dee. Nach einem Upda...  \n",
       "55                Tolles neues Feedback. 👍 Danke dir!  \n",
       "56  Danke für dein Feedback, MBE300de! Melde dich ...  \n",
       "57  Hallo Katha und herzlichen Dank für dein Feedb...  \n",
       "58  Danke für deine neue Rückmeldung, Arathlon. Da...  \n",
       "59  Ist gerade erschienen, hus91! 😉 Bitte update a...  "
      ]
     },
     "execution_count": 100,
     "metadata": {},
     "output_type": "execute_result"
    }
   ],
   "source": [
    "#data\n",
    "\n",
    "df=pd.DataFrame(data)\n",
    "df"
   ]
  },
  {
   "cell_type": "code",
   "execution_count": 101,
   "id": "601b91a6",
   "metadata": {},
   "outputs": [
    {
     "data": {
      "text/html": [
       "        <script type=\"text/javascript\">\n",
       "        window.PlotlyConfig = {MathJaxConfig: 'local'};\n",
       "        if (window.MathJax) {MathJax.Hub.Config({SVG: {font: \"STIX-Web\"}});}\n",
       "        if (typeof require !== 'undefined') {\n",
       "        require.undef(\"plotly\");\n",
       "        requirejs.config({\n",
       "            paths: {\n",
       "                'plotly': ['https://cdn.plot.ly/plotly-latest.min']\n",
       "            }\n",
       "        });\n",
       "        require(['plotly'], function(Plotly) {\n",
       "            window._Plotly = Plotly;\n",
       "        });\n",
       "        }\n",
       "        </script>\n",
       "        "
      ]
     },
     "metadata": {},
     "output_type": "display_data"
    },
    {
     "data": {
      "application/vnd.plotly.v1+json": {
       "config": {
        "plotlyServerURL": "https://plot.ly"
       },
       "data": [
        {
         "alignmentgroup": "True",
         "bingroup": "x",
         "hovertemplate": "rating_calc=%{x}<br>count=%{y}<extra></extra>",
         "legendgroup": "",
         "marker": {
          "color": "turquoise",
          "line": {
           "color": "rgb(8,48,107)",
           "width": 1.5
          }
         },
         "name": "",
         "offsetgroup": "",
         "orientation": "v",
         "showlegend": false,
         "type": "histogram",
         "x": [
          5,
          5,
          5,
          5,
          5,
          5,
          4,
          5,
          4,
          4,
          5,
          5,
          5,
          3,
          5,
          5,
          5,
          5,
          5,
          5,
          5,
          5,
          3,
          5,
          5,
          5,
          5,
          5,
          5,
          5,
          5,
          5,
          5,
          5,
          5,
          4,
          2,
          5,
          5,
          3,
          5,
          5,
          3,
          4,
          5,
          5,
          5,
          4,
          4,
          3,
          5,
          5,
          4,
          5,
          5,
          4,
          5,
          4,
          4,
          4
         ],
         "xaxis": "x",
         "yaxis": "y"
        }
       ],
       "layout": {
        "barmode": "relative",
        "legend": {
         "tracegroupgap": 0
        },
        "margin": {
         "t": 60
        },
        "template": {
         "data": {
          "bar": [
           {
            "error_x": {
             "color": "#2a3f5f"
            },
            "error_y": {
             "color": "#2a3f5f"
            },
            "marker": {
             "line": {
              "color": "#E5ECF6",
              "width": 0.5
             }
            },
            "type": "bar"
           }
          ],
          "barpolar": [
           {
            "marker": {
             "line": {
              "color": "#E5ECF6",
              "width": 0.5
             }
            },
            "type": "barpolar"
           }
          ],
          "carpet": [
           {
            "aaxis": {
             "endlinecolor": "#2a3f5f",
             "gridcolor": "white",
             "linecolor": "white",
             "minorgridcolor": "white",
             "startlinecolor": "#2a3f5f"
            },
            "baxis": {
             "endlinecolor": "#2a3f5f",
             "gridcolor": "white",
             "linecolor": "white",
             "minorgridcolor": "white",
             "startlinecolor": "#2a3f5f"
            },
            "type": "carpet"
           }
          ],
          "choropleth": [
           {
            "colorbar": {
             "outlinewidth": 0,
             "ticks": ""
            },
            "type": "choropleth"
           }
          ],
          "contour": [
           {
            "colorbar": {
             "outlinewidth": 0,
             "ticks": ""
            },
            "colorscale": [
             [
              0,
              "#0d0887"
             ],
             [
              0.1111111111111111,
              "#46039f"
             ],
             [
              0.2222222222222222,
              "#7201a8"
             ],
             [
              0.3333333333333333,
              "#9c179e"
             ],
             [
              0.4444444444444444,
              "#bd3786"
             ],
             [
              0.5555555555555556,
              "#d8576b"
             ],
             [
              0.6666666666666666,
              "#ed7953"
             ],
             [
              0.7777777777777778,
              "#fb9f3a"
             ],
             [
              0.8888888888888888,
              "#fdca26"
             ],
             [
              1,
              "#f0f921"
             ]
            ],
            "type": "contour"
           }
          ],
          "contourcarpet": [
           {
            "colorbar": {
             "outlinewidth": 0,
             "ticks": ""
            },
            "type": "contourcarpet"
           }
          ],
          "heatmap": [
           {
            "colorbar": {
             "outlinewidth": 0,
             "ticks": ""
            },
            "colorscale": [
             [
              0,
              "#0d0887"
             ],
             [
              0.1111111111111111,
              "#46039f"
             ],
             [
              0.2222222222222222,
              "#7201a8"
             ],
             [
              0.3333333333333333,
              "#9c179e"
             ],
             [
              0.4444444444444444,
              "#bd3786"
             ],
             [
              0.5555555555555556,
              "#d8576b"
             ],
             [
              0.6666666666666666,
              "#ed7953"
             ],
             [
              0.7777777777777778,
              "#fb9f3a"
             ],
             [
              0.8888888888888888,
              "#fdca26"
             ],
             [
              1,
              "#f0f921"
             ]
            ],
            "type": "heatmap"
           }
          ],
          "heatmapgl": [
           {
            "colorbar": {
             "outlinewidth": 0,
             "ticks": ""
            },
            "colorscale": [
             [
              0,
              "#0d0887"
             ],
             [
              0.1111111111111111,
              "#46039f"
             ],
             [
              0.2222222222222222,
              "#7201a8"
             ],
             [
              0.3333333333333333,
              "#9c179e"
             ],
             [
              0.4444444444444444,
              "#bd3786"
             ],
             [
              0.5555555555555556,
              "#d8576b"
             ],
             [
              0.6666666666666666,
              "#ed7953"
             ],
             [
              0.7777777777777778,
              "#fb9f3a"
             ],
             [
              0.8888888888888888,
              "#fdca26"
             ],
             [
              1,
              "#f0f921"
             ]
            ],
            "type": "heatmapgl"
           }
          ],
          "histogram": [
           {
            "marker": {
             "colorbar": {
              "outlinewidth": 0,
              "ticks": ""
             }
            },
            "type": "histogram"
           }
          ],
          "histogram2d": [
           {
            "colorbar": {
             "outlinewidth": 0,
             "ticks": ""
            },
            "colorscale": [
             [
              0,
              "#0d0887"
             ],
             [
              0.1111111111111111,
              "#46039f"
             ],
             [
              0.2222222222222222,
              "#7201a8"
             ],
             [
              0.3333333333333333,
              "#9c179e"
             ],
             [
              0.4444444444444444,
              "#bd3786"
             ],
             [
              0.5555555555555556,
              "#d8576b"
             ],
             [
              0.6666666666666666,
              "#ed7953"
             ],
             [
              0.7777777777777778,
              "#fb9f3a"
             ],
             [
              0.8888888888888888,
              "#fdca26"
             ],
             [
              1,
              "#f0f921"
             ]
            ],
            "type": "histogram2d"
           }
          ],
          "histogram2dcontour": [
           {
            "colorbar": {
             "outlinewidth": 0,
             "ticks": ""
            },
            "colorscale": [
             [
              0,
              "#0d0887"
             ],
             [
              0.1111111111111111,
              "#46039f"
             ],
             [
              0.2222222222222222,
              "#7201a8"
             ],
             [
              0.3333333333333333,
              "#9c179e"
             ],
             [
              0.4444444444444444,
              "#bd3786"
             ],
             [
              0.5555555555555556,
              "#d8576b"
             ],
             [
              0.6666666666666666,
              "#ed7953"
             ],
             [
              0.7777777777777778,
              "#fb9f3a"
             ],
             [
              0.8888888888888888,
              "#fdca26"
             ],
             [
              1,
              "#f0f921"
             ]
            ],
            "type": "histogram2dcontour"
           }
          ],
          "mesh3d": [
           {
            "colorbar": {
             "outlinewidth": 0,
             "ticks": ""
            },
            "type": "mesh3d"
           }
          ],
          "parcoords": [
           {
            "line": {
             "colorbar": {
              "outlinewidth": 0,
              "ticks": ""
             }
            },
            "type": "parcoords"
           }
          ],
          "pie": [
           {
            "automargin": true,
            "type": "pie"
           }
          ],
          "scatter": [
           {
            "marker": {
             "colorbar": {
              "outlinewidth": 0,
              "ticks": ""
             }
            },
            "type": "scatter"
           }
          ],
          "scatter3d": [
           {
            "line": {
             "colorbar": {
              "outlinewidth": 0,
              "ticks": ""
             }
            },
            "marker": {
             "colorbar": {
              "outlinewidth": 0,
              "ticks": ""
             }
            },
            "type": "scatter3d"
           }
          ],
          "scattercarpet": [
           {
            "marker": {
             "colorbar": {
              "outlinewidth": 0,
              "ticks": ""
             }
            },
            "type": "scattercarpet"
           }
          ],
          "scattergeo": [
           {
            "marker": {
             "colorbar": {
              "outlinewidth": 0,
              "ticks": ""
             }
            },
            "type": "scattergeo"
           }
          ],
          "scattergl": [
           {
            "marker": {
             "colorbar": {
              "outlinewidth": 0,
              "ticks": ""
             }
            },
            "type": "scattergl"
           }
          ],
          "scattermapbox": [
           {
            "marker": {
             "colorbar": {
              "outlinewidth": 0,
              "ticks": ""
             }
            },
            "type": "scattermapbox"
           }
          ],
          "scatterpolar": [
           {
            "marker": {
             "colorbar": {
              "outlinewidth": 0,
              "ticks": ""
             }
            },
            "type": "scatterpolar"
           }
          ],
          "scatterpolargl": [
           {
            "marker": {
             "colorbar": {
              "outlinewidth": 0,
              "ticks": ""
             }
            },
            "type": "scatterpolargl"
           }
          ],
          "scatterternary": [
           {
            "marker": {
             "colorbar": {
              "outlinewidth": 0,
              "ticks": ""
             }
            },
            "type": "scatterternary"
           }
          ],
          "surface": [
           {
            "colorbar": {
             "outlinewidth": 0,
             "ticks": ""
            },
            "colorscale": [
             [
              0,
              "#0d0887"
             ],
             [
              0.1111111111111111,
              "#46039f"
             ],
             [
              0.2222222222222222,
              "#7201a8"
             ],
             [
              0.3333333333333333,
              "#9c179e"
             ],
             [
              0.4444444444444444,
              "#bd3786"
             ],
             [
              0.5555555555555556,
              "#d8576b"
             ],
             [
              0.6666666666666666,
              "#ed7953"
             ],
             [
              0.7777777777777778,
              "#fb9f3a"
             ],
             [
              0.8888888888888888,
              "#fdca26"
             ],
             [
              1,
              "#f0f921"
             ]
            ],
            "type": "surface"
           }
          ],
          "table": [
           {
            "cells": {
             "fill": {
              "color": "#EBF0F8"
             },
             "line": {
              "color": "white"
             }
            },
            "header": {
             "fill": {
              "color": "#C8D4E3"
             },
             "line": {
              "color": "white"
             }
            },
            "type": "table"
           }
          ]
         },
         "layout": {
          "annotationdefaults": {
           "arrowcolor": "#2a3f5f",
           "arrowhead": 0,
           "arrowwidth": 1
          },
          "autotypenumbers": "strict",
          "coloraxis": {
           "colorbar": {
            "outlinewidth": 0,
            "ticks": ""
           }
          },
          "colorscale": {
           "diverging": [
            [
             0,
             "#8e0152"
            ],
            [
             0.1,
             "#c51b7d"
            ],
            [
             0.2,
             "#de77ae"
            ],
            [
             0.3,
             "#f1b6da"
            ],
            [
             0.4,
             "#fde0ef"
            ],
            [
             0.5,
             "#f7f7f7"
            ],
            [
             0.6,
             "#e6f5d0"
            ],
            [
             0.7,
             "#b8e186"
            ],
            [
             0.8,
             "#7fbc41"
            ],
            [
             0.9,
             "#4d9221"
            ],
            [
             1,
             "#276419"
            ]
           ],
           "sequential": [
            [
             0,
             "#0d0887"
            ],
            [
             0.1111111111111111,
             "#46039f"
            ],
            [
             0.2222222222222222,
             "#7201a8"
            ],
            [
             0.3333333333333333,
             "#9c179e"
            ],
            [
             0.4444444444444444,
             "#bd3786"
            ],
            [
             0.5555555555555556,
             "#d8576b"
            ],
            [
             0.6666666666666666,
             "#ed7953"
            ],
            [
             0.7777777777777778,
             "#fb9f3a"
            ],
            [
             0.8888888888888888,
             "#fdca26"
            ],
            [
             1,
             "#f0f921"
            ]
           ],
           "sequentialminus": [
            [
             0,
             "#0d0887"
            ],
            [
             0.1111111111111111,
             "#46039f"
            ],
            [
             0.2222222222222222,
             "#7201a8"
            ],
            [
             0.3333333333333333,
             "#9c179e"
            ],
            [
             0.4444444444444444,
             "#bd3786"
            ],
            [
             0.5555555555555556,
             "#d8576b"
            ],
            [
             0.6666666666666666,
             "#ed7953"
            ],
            [
             0.7777777777777778,
             "#fb9f3a"
            ],
            [
             0.8888888888888888,
             "#fdca26"
            ],
            [
             1,
             "#f0f921"
            ]
           ]
          },
          "colorway": [
           "#636efa",
           "#EF553B",
           "#00cc96",
           "#ab63fa",
           "#FFA15A",
           "#19d3f3",
           "#FF6692",
           "#B6E880",
           "#FF97FF",
           "#FECB52"
          ],
          "font": {
           "color": "#2a3f5f"
          },
          "geo": {
           "bgcolor": "white",
           "lakecolor": "white",
           "landcolor": "#E5ECF6",
           "showlakes": true,
           "showland": true,
           "subunitcolor": "white"
          },
          "hoverlabel": {
           "align": "left"
          },
          "hovermode": "closest",
          "mapbox": {
           "style": "light"
          },
          "paper_bgcolor": "white",
          "plot_bgcolor": "#E5ECF6",
          "polar": {
           "angularaxis": {
            "gridcolor": "white",
            "linecolor": "white",
            "ticks": ""
           },
           "bgcolor": "#E5ECF6",
           "radialaxis": {
            "gridcolor": "white",
            "linecolor": "white",
            "ticks": ""
           }
          },
          "scene": {
           "xaxis": {
            "backgroundcolor": "#E5ECF6",
            "gridcolor": "white",
            "gridwidth": 2,
            "linecolor": "white",
            "showbackground": true,
            "ticks": "",
            "zerolinecolor": "white"
           },
           "yaxis": {
            "backgroundcolor": "#E5ECF6",
            "gridcolor": "white",
            "gridwidth": 2,
            "linecolor": "white",
            "showbackground": true,
            "ticks": "",
            "zerolinecolor": "white"
           },
           "zaxis": {
            "backgroundcolor": "#E5ECF6",
            "gridcolor": "white",
            "gridwidth": 2,
            "linecolor": "white",
            "showbackground": true,
            "ticks": "",
            "zerolinecolor": "white"
           }
          },
          "shapedefaults": {
           "line": {
            "color": "#2a3f5f"
           }
          },
          "ternary": {
           "aaxis": {
            "gridcolor": "white",
            "linecolor": "white",
            "ticks": ""
           },
           "baxis": {
            "gridcolor": "white",
            "linecolor": "white",
            "ticks": ""
           },
           "bgcolor": "#E5ECF6",
           "caxis": {
            "gridcolor": "white",
            "linecolor": "white",
            "ticks": ""
           }
          },
          "title": {
           "x": 0.05
          },
          "xaxis": {
           "automargin": true,
           "gridcolor": "white",
           "linecolor": "white",
           "ticks": "",
           "title": {
            "standoff": 15
           },
           "zerolinecolor": "white",
           "zerolinewidth": 2
          },
          "yaxis": {
           "automargin": true,
           "gridcolor": "white",
           "linecolor": "white",
           "ticks": "",
           "title": {
            "standoff": 15
           },
           "zerolinecolor": "white",
           "zerolinewidth": 2
          }
         }
        },
        "title": {
         "text": "Rating"
        },
        "xaxis": {
         "anchor": "y",
         "domain": [
          0,
          1
         ],
         "title": {
          "text": "rating_calc"
         }
        },
        "yaxis": {
         "anchor": "x",
         "domain": [
          0,
          1
         ],
         "title": {
          "text": "count"
         }
        }
       }
      },
      "text/html": [
       "<div>                            <div id=\"c661d053-7f29-46c1-bf80-edef105c9a9e\" class=\"plotly-graph-div\" style=\"height:525px; width:100%;\"></div>            <script type=\"text/javascript\">                require([\"plotly\"], function(Plotly) {                    window.PLOTLYENV=window.PLOTLYENV || {};                                    if (document.getElementById(\"c661d053-7f29-46c1-bf80-edef105c9a9e\")) {                    Plotly.newPlot(                        \"c661d053-7f29-46c1-bf80-edef105c9a9e\",                        [{\"alignmentgroup\": \"True\", \"bingroup\": \"x\", \"hovertemplate\": \"rating_calc=%{x}<br>count=%{y}<extra></extra>\", \"legendgroup\": \"\", \"marker\": {\"color\": \"turquoise\", \"line\": {\"color\": \"rgb(8,48,107)\", \"width\": 1.5}}, \"name\": \"\", \"offsetgroup\": \"\", \"orientation\": \"v\", \"showlegend\": false, \"type\": \"histogram\", \"x\": [5, 5, 5, 5, 5, 5, 4, 5, 4, 4, 5, 5, 5, 3, 5, 5, 5, 5, 5, 5, 5, 5, 3, 5, 5, 5, 5, 5, 5, 5, 5, 5, 5, 5, 5, 4, 2, 5, 5, 3, 5, 5, 3, 4, 5, 5, 5, 4, 4, 3, 5, 5, 4, 5, 5, 4, 5, 4, 4, 4], \"xaxis\": \"x\", \"yaxis\": \"y\"}],                        {\"barmode\": \"relative\", \"legend\": {\"tracegroupgap\": 0}, \"margin\": {\"t\": 60}, \"template\": {\"data\": {\"bar\": [{\"error_x\": {\"color\": \"#2a3f5f\"}, \"error_y\": {\"color\": \"#2a3f5f\"}, \"marker\": {\"line\": {\"color\": \"#E5ECF6\", \"width\": 0.5}}, \"type\": \"bar\"}], \"barpolar\": [{\"marker\": {\"line\": {\"color\": \"#E5ECF6\", \"width\": 0.5}}, \"type\": \"barpolar\"}], \"carpet\": [{\"aaxis\": {\"endlinecolor\": \"#2a3f5f\", \"gridcolor\": \"white\", \"linecolor\": \"white\", \"minorgridcolor\": \"white\", \"startlinecolor\": \"#2a3f5f\"}, \"baxis\": {\"endlinecolor\": \"#2a3f5f\", \"gridcolor\": \"white\", \"linecolor\": \"white\", \"minorgridcolor\": \"white\", \"startlinecolor\": \"#2a3f5f\"}, \"type\": \"carpet\"}], \"choropleth\": [{\"colorbar\": {\"outlinewidth\": 0, \"ticks\": \"\"}, \"type\": \"choropleth\"}], \"contour\": [{\"colorbar\": {\"outlinewidth\": 0, \"ticks\": \"\"}, \"colorscale\": [[0.0, \"#0d0887\"], [0.1111111111111111, \"#46039f\"], [0.2222222222222222, \"#7201a8\"], [0.3333333333333333, \"#9c179e\"], [0.4444444444444444, \"#bd3786\"], [0.5555555555555556, \"#d8576b\"], [0.6666666666666666, \"#ed7953\"], [0.7777777777777778, \"#fb9f3a\"], [0.8888888888888888, \"#fdca26\"], [1.0, \"#f0f921\"]], \"type\": \"contour\"}], \"contourcarpet\": [{\"colorbar\": {\"outlinewidth\": 0, \"ticks\": \"\"}, \"type\": \"contourcarpet\"}], \"heatmap\": [{\"colorbar\": {\"outlinewidth\": 0, \"ticks\": \"\"}, \"colorscale\": [[0.0, \"#0d0887\"], [0.1111111111111111, \"#46039f\"], [0.2222222222222222, \"#7201a8\"], [0.3333333333333333, \"#9c179e\"], [0.4444444444444444, \"#bd3786\"], [0.5555555555555556, \"#d8576b\"], [0.6666666666666666, \"#ed7953\"], [0.7777777777777778, \"#fb9f3a\"], [0.8888888888888888, \"#fdca26\"], [1.0, \"#f0f921\"]], \"type\": \"heatmap\"}], \"heatmapgl\": [{\"colorbar\": {\"outlinewidth\": 0, \"ticks\": \"\"}, \"colorscale\": [[0.0, \"#0d0887\"], [0.1111111111111111, \"#46039f\"], [0.2222222222222222, \"#7201a8\"], [0.3333333333333333, \"#9c179e\"], [0.4444444444444444, \"#bd3786\"], [0.5555555555555556, \"#d8576b\"], [0.6666666666666666, \"#ed7953\"], [0.7777777777777778, \"#fb9f3a\"], [0.8888888888888888, \"#fdca26\"], [1.0, \"#f0f921\"]], \"type\": \"heatmapgl\"}], \"histogram\": [{\"marker\": {\"colorbar\": {\"outlinewidth\": 0, \"ticks\": \"\"}}, \"type\": \"histogram\"}], \"histogram2d\": [{\"colorbar\": {\"outlinewidth\": 0, \"ticks\": \"\"}, \"colorscale\": [[0.0, \"#0d0887\"], [0.1111111111111111, \"#46039f\"], [0.2222222222222222, \"#7201a8\"], [0.3333333333333333, \"#9c179e\"], [0.4444444444444444, \"#bd3786\"], [0.5555555555555556, \"#d8576b\"], [0.6666666666666666, \"#ed7953\"], [0.7777777777777778, \"#fb9f3a\"], [0.8888888888888888, \"#fdca26\"], [1.0, \"#f0f921\"]], \"type\": \"histogram2d\"}], \"histogram2dcontour\": [{\"colorbar\": {\"outlinewidth\": 0, \"ticks\": \"\"}, \"colorscale\": [[0.0, \"#0d0887\"], [0.1111111111111111, \"#46039f\"], [0.2222222222222222, \"#7201a8\"], [0.3333333333333333, \"#9c179e\"], [0.4444444444444444, \"#bd3786\"], [0.5555555555555556, \"#d8576b\"], [0.6666666666666666, \"#ed7953\"], [0.7777777777777778, \"#fb9f3a\"], [0.8888888888888888, \"#fdca26\"], [1.0, \"#f0f921\"]], \"type\": \"histogram2dcontour\"}], \"mesh3d\": [{\"colorbar\": {\"outlinewidth\": 0, \"ticks\": \"\"}, \"type\": \"mesh3d\"}], \"parcoords\": [{\"line\": {\"colorbar\": {\"outlinewidth\": 0, \"ticks\": \"\"}}, \"type\": \"parcoords\"}], \"pie\": [{\"automargin\": true, \"type\": \"pie\"}], \"scatter\": [{\"marker\": {\"colorbar\": {\"outlinewidth\": 0, \"ticks\": \"\"}}, \"type\": \"scatter\"}], \"scatter3d\": [{\"line\": {\"colorbar\": {\"outlinewidth\": 0, \"ticks\": \"\"}}, \"marker\": {\"colorbar\": {\"outlinewidth\": 0, \"ticks\": \"\"}}, \"type\": \"scatter3d\"}], \"scattercarpet\": [{\"marker\": {\"colorbar\": {\"outlinewidth\": 0, \"ticks\": \"\"}}, \"type\": \"scattercarpet\"}], \"scattergeo\": [{\"marker\": {\"colorbar\": {\"outlinewidth\": 0, \"ticks\": \"\"}}, \"type\": \"scattergeo\"}], \"scattergl\": [{\"marker\": {\"colorbar\": {\"outlinewidth\": 0, \"ticks\": \"\"}}, \"type\": \"scattergl\"}], \"scattermapbox\": [{\"marker\": {\"colorbar\": {\"outlinewidth\": 0, \"ticks\": \"\"}}, \"type\": \"scattermapbox\"}], \"scatterpolar\": [{\"marker\": {\"colorbar\": {\"outlinewidth\": 0, \"ticks\": \"\"}}, \"type\": \"scatterpolar\"}], \"scatterpolargl\": [{\"marker\": {\"colorbar\": {\"outlinewidth\": 0, \"ticks\": \"\"}}, \"type\": \"scatterpolargl\"}], \"scatterternary\": [{\"marker\": {\"colorbar\": {\"outlinewidth\": 0, \"ticks\": \"\"}}, \"type\": \"scatterternary\"}], \"surface\": [{\"colorbar\": {\"outlinewidth\": 0, \"ticks\": \"\"}, \"colorscale\": [[0.0, \"#0d0887\"], [0.1111111111111111, \"#46039f\"], [0.2222222222222222, \"#7201a8\"], [0.3333333333333333, \"#9c179e\"], [0.4444444444444444, \"#bd3786\"], [0.5555555555555556, \"#d8576b\"], [0.6666666666666666, \"#ed7953\"], [0.7777777777777778, \"#fb9f3a\"], [0.8888888888888888, \"#fdca26\"], [1.0, \"#f0f921\"]], \"type\": \"surface\"}], \"table\": [{\"cells\": {\"fill\": {\"color\": \"#EBF0F8\"}, \"line\": {\"color\": \"white\"}}, \"header\": {\"fill\": {\"color\": \"#C8D4E3\"}, \"line\": {\"color\": \"white\"}}, \"type\": \"table\"}]}, \"layout\": {\"annotationdefaults\": {\"arrowcolor\": \"#2a3f5f\", \"arrowhead\": 0, \"arrowwidth\": 1}, \"autotypenumbers\": \"strict\", \"coloraxis\": {\"colorbar\": {\"outlinewidth\": 0, \"ticks\": \"\"}}, \"colorscale\": {\"diverging\": [[0, \"#8e0152\"], [0.1, \"#c51b7d\"], [0.2, \"#de77ae\"], [0.3, \"#f1b6da\"], [0.4, \"#fde0ef\"], [0.5, \"#f7f7f7\"], [0.6, \"#e6f5d0\"], [0.7, \"#b8e186\"], [0.8, \"#7fbc41\"], [0.9, \"#4d9221\"], [1, \"#276419\"]], \"sequential\": [[0.0, \"#0d0887\"], [0.1111111111111111, \"#46039f\"], [0.2222222222222222, \"#7201a8\"], [0.3333333333333333, \"#9c179e\"], [0.4444444444444444, \"#bd3786\"], [0.5555555555555556, \"#d8576b\"], [0.6666666666666666, \"#ed7953\"], [0.7777777777777778, \"#fb9f3a\"], [0.8888888888888888, \"#fdca26\"], [1.0, \"#f0f921\"]], \"sequentialminus\": [[0.0, \"#0d0887\"], [0.1111111111111111, \"#46039f\"], [0.2222222222222222, \"#7201a8\"], [0.3333333333333333, \"#9c179e\"], [0.4444444444444444, \"#bd3786\"], [0.5555555555555556, \"#d8576b\"], [0.6666666666666666, \"#ed7953\"], [0.7777777777777778, \"#fb9f3a\"], [0.8888888888888888, \"#fdca26\"], [1.0, \"#f0f921\"]]}, \"colorway\": [\"#636efa\", \"#EF553B\", \"#00cc96\", \"#ab63fa\", \"#FFA15A\", \"#19d3f3\", \"#FF6692\", \"#B6E880\", \"#FF97FF\", \"#FECB52\"], \"font\": {\"color\": \"#2a3f5f\"}, \"geo\": {\"bgcolor\": \"white\", \"lakecolor\": \"white\", \"landcolor\": \"#E5ECF6\", \"showlakes\": true, \"showland\": true, \"subunitcolor\": \"white\"}, \"hoverlabel\": {\"align\": \"left\"}, \"hovermode\": \"closest\", \"mapbox\": {\"style\": \"light\"}, \"paper_bgcolor\": \"white\", \"plot_bgcolor\": \"#E5ECF6\", \"polar\": {\"angularaxis\": {\"gridcolor\": \"white\", \"linecolor\": \"white\", \"ticks\": \"\"}, \"bgcolor\": \"#E5ECF6\", \"radialaxis\": {\"gridcolor\": \"white\", \"linecolor\": \"white\", \"ticks\": \"\"}}, \"scene\": {\"xaxis\": {\"backgroundcolor\": \"#E5ECF6\", \"gridcolor\": \"white\", \"gridwidth\": 2, \"linecolor\": \"white\", \"showbackground\": true, \"ticks\": \"\", \"zerolinecolor\": \"white\"}, \"yaxis\": {\"backgroundcolor\": \"#E5ECF6\", \"gridcolor\": \"white\", \"gridwidth\": 2, \"linecolor\": \"white\", \"showbackground\": true, \"ticks\": \"\", \"zerolinecolor\": \"white\"}, \"zaxis\": {\"backgroundcolor\": \"#E5ECF6\", \"gridcolor\": \"white\", \"gridwidth\": 2, \"linecolor\": \"white\", \"showbackground\": true, \"ticks\": \"\", \"zerolinecolor\": \"white\"}}, \"shapedefaults\": {\"line\": {\"color\": \"#2a3f5f\"}}, \"ternary\": {\"aaxis\": {\"gridcolor\": \"white\", \"linecolor\": \"white\", \"ticks\": \"\"}, \"baxis\": {\"gridcolor\": \"white\", \"linecolor\": \"white\", \"ticks\": \"\"}, \"bgcolor\": \"#E5ECF6\", \"caxis\": {\"gridcolor\": \"white\", \"linecolor\": \"white\", \"ticks\": \"\"}}, \"title\": {\"x\": 0.05}, \"xaxis\": {\"automargin\": true, \"gridcolor\": \"white\", \"linecolor\": \"white\", \"ticks\": \"\", \"title\": {\"standoff\": 15}, \"zerolinecolor\": \"white\", \"zerolinewidth\": 2}, \"yaxis\": {\"automargin\": true, \"gridcolor\": \"white\", \"linecolor\": \"white\", \"ticks\": \"\", \"title\": {\"standoff\": 15}, \"zerolinecolor\": \"white\", \"zerolinewidth\": 2}}}, \"title\": {\"text\": \"Rating\"}, \"xaxis\": {\"anchor\": \"y\", \"domain\": [0.0, 1.0], \"title\": {\"text\": \"rating_calc\"}}, \"yaxis\": {\"anchor\": \"x\", \"domain\": [0.0, 1.0], \"title\": {\"text\": \"count\"}}},                        {\"responsive\": true}                    ).then(function(){\n",
       "                            \n",
       "var gd = document.getElementById('c661d053-7f29-46c1-bf80-edef105c9a9e');\n",
       "var x = new MutationObserver(function (mutations, observer) {{\n",
       "        var display = window.getComputedStyle(gd).display;\n",
       "        if (!display || display === 'none') {{\n",
       "            console.log([gd, 'removed!']);\n",
       "            Plotly.purge(gd);\n",
       "            observer.disconnect();\n",
       "        }}\n",
       "}});\n",
       "\n",
       "// Listen for the removal of the full notebook cells\n",
       "var notebookContainer = gd.closest('#notebook-container');\n",
       "if (notebookContainer) {{\n",
       "    x.observe(notebookContainer, {childList: true});\n",
       "}}\n",
       "\n",
       "// Listen for the clearing of the current output cell\n",
       "var outputEl = gd.closest('.output');\n",
       "if (outputEl) {{\n",
       "    x.observe(outputEl, {childList: true});\n",
       "}}\n",
       "\n",
       "                        })                };                });            </script>        </div>"
      ]
     },
     "metadata": {},
     "output_type": "display_data"
    }
   ],
   "source": [
    "#Step 2\n",
    "import nltk\n",
    "# Imports\n",
    "import matplotlib.pyplot as plt\n",
    "import seaborn as sns\n",
    "color = sns.color_palette()\n",
    "%matplotlib inline\n",
    "import plotly.offline as py\n",
    "py.init_notebook_mode(connected=True)\n",
    "import plotly.graph_objs as go\n",
    "import plotly.tools as tls\n",
    "import plotly.express as px\n",
    "# Product Scores\n",
    "fig = px.histogram(df, x=\"rating_calc\")\n",
    "fig.update_traces(marker_color=\"turquoise\",marker_line_color='rgb(8,48,107)',\n",
    "                  marker_line_width=1.5)\n",
    "fig.update_layout(title_text='Rating')\n",
    "fig.show()\n"
   ]
  },
  {
   "cell_type": "code",
   "execution_count": 102,
   "id": "48ae2cde",
   "metadata": {},
   "outputs": [
    {
     "data": {
      "image/png": "[encoded data removed]",
      "text/plain": [
       "<Figure size 432x288 with 1 Axes>"
      ]
     },
     "metadata": {
      "needs_background": "light"
     },
     "output_type": "display_data"
    }
   ],
   "source": [
    "#Step3\n",
    "\n",
    "import nltk\n",
    "from nltk.corpus import stopwords \n",
    "from wordcloud import WordCloud\n",
    "\n",
    "\n",
    "# Create stopword list:\n",
    "stopwords = set(stopwords.words('german'))\n",
    "stopwords.update([\"wurde\",\"obwohl\",\"leider\",\"gibt\",\"obwohl\",\"immer\"])\n",
    "textt = \" \".join(review for review in df.feedback)\n",
    "wordcloud = WordCloud(stopwords=stopwords).generate(textt)\n",
    "plt.imshow(wordcloud, interpolation='bilinear')\n",
    "plt.axis(\"off\")\n",
    "plt.savefig('wordcloud_all.png')\n",
    "plt.show()"
   ]
  },
  {
   "cell_type": "code",
   "execution_count": 103,
   "id": "e368a7f9",
   "metadata": {},
   "outputs": [],
   "source": [
    "# assign reviews with score >= 4 as positive sentiment\n",
    "# score < 4 negative sentiment\n",
    "# remove score = 4\n",
    "\n",
    "#df = df[df['rating_calc'] != 3]\n",
    "df['sentiment'] = df['rating_calc'].apply(lambda rating : +1 if rating >= 4 else -1)"
   ]
  },
  {
   "cell_type": "code",
   "execution_count": 104,
   "id": "ff66c8fa",
   "metadata": {},
   "outputs": [],
   "source": [
    "# split df - positive and negative sentiment:\n",
    "positive = df[df['sentiment'] == 1]\n",
    "negative = df[df['sentiment'] == -1]"
   ]
  },
  {
   "cell_type": "code",
   "execution_count": 105,
   "id": "903a3b6d",
   "metadata": {},
   "outputs": [
    {
     "data": {
      "image/png": "[encoded data removed]",
      "text/plain": [
       "<Figure size 432x288 with 1 Axes>"
      ]
     },
     "metadata": {
      "needs_background": "light"
     },
     "output_type": "display_data"
    }
   ],
   "source": [
    "# good and great removed because they were included in negative sentiment\n",
    "pos = \" \".join(review for review in positive.feedback)\n",
    "wordcloud2 = WordCloud(stopwords=stopwords).generate(pos)\n",
    "plt.imshow(wordcloud2, interpolation='bilinear')\n",
    "plt.axis(\"off\")\n",
    "plt.savefig('wordcloud_positive.png')\n",
    "plt.show()"
   ]
  },
  {
   "cell_type": "code",
   "execution_count": 106,
   "id": "a49a3a18",
   "metadata": {},
   "outputs": [
    {
     "data": {
      "image/png": "[encoded data removed]",
      "text/plain": [
       "<Figure size 432x288 with 1 Axes>"
      ]
     },
     "metadata": {
      "needs_background": "light"
     },
     "output_type": "display_data"
    }
   ],
   "source": [
    "neg = \" \".join(review for review in negative.feedback)\n",
    "wordcloud3 = WordCloud(stopwords=stopwords).generate(neg)\n",
    "plt.imshow(wordcloud3, interpolation='bilinear')\n",
    "plt.axis(\"off\")\n",
    "plt.savefig('wordcloud_negative.png')\n",
    "plt.show()"
   ]
  },
  {
   "cell_type": "code",
   "execution_count": 107,
   "id": "781da1b0",
   "metadata": {},
   "outputs": [
    {
     "data": {
      "application/vnd.plotly.v1+json": {
       "config": {
        "plotlyServerURL": "https://plot.ly"
       },
       "data": [
        {
         "alignmentgroup": "True",
         "bingroup": "x",
         "hovertemplate": "sentimentt=%{x}<br>count=%{y}<extra></extra>",
         "legendgroup": "",
         "marker": {
          "color": "indianred",
          "line": {
           "color": "rgb(8,48,107)",
           "width": 1.5
          }
         },
         "name": "",
         "offsetgroup": "",
         "orientation": "v",
         "showlegend": false,
         "type": "histogram",
         "x": [
          "positive",
          "positive",
          "positive",
          "positive",
          "positive",
          "positive",
          "positive",
          "positive",
          "positive",
          "positive",
          "positive",
          "positive",
          "positive",
          "negative",
          "positive",
          "positive",
          "positive",
          "positive",
          "positive",
          "positive",
          "positive",
          "positive",
          "negative",
          "positive",
          "positive",
          "positive",
          "positive",
          "positive",
          "positive",
          "positive",
          "positive",
          "positive",
          "positive",
          "positive",
          "positive",
          "positive",
          "negative",
          "positive",
          "positive",
          "negative",
          "positive",
          "positive",
          "negative",
          "positive",
          "positive",
          "positive",
          "positive",
          "positive",
          "positive",
          "negative",
          "positive",
          "positive",
          "positive",
          "positive",
          "positive",
          "positive",
          "positive",
          "positive",
          "positive",
          "positive"
         ],
         "xaxis": "x",
         "yaxis": "y"
        }
       ],
       "layout": {
        "barmode": "relative",
        "legend": {
         "tracegroupgap": 0
        },
        "margin": {
         "t": 60
        },
        "template": {
         "data": {
          "bar": [
           {
            "error_x": {
             "color": "#2a3f5f"
            },
            "error_y": {
             "color": "#2a3f5f"
            },
            "marker": {
             "line": {
              "color": "#E5ECF6",
              "width": 0.5
             }
            },
            "type": "bar"
           }
          ],
          "barpolar": [
           {
            "marker": {
             "line": {
              "color": "#E5ECF6",
              "width": 0.5
             }
            },
            "type": "barpolar"
           }
          ],
          "carpet": [
           {
            "aaxis": {
             "endlinecolor": "#2a3f5f",
             "gridcolor": "white",
             "linecolor": "white",
             "minorgridcolor": "white",
             "startlinecolor": "#2a3f5f"
            },
            "baxis": {
             "endlinecolor": "#2a3f5f",
             "gridcolor": "white",
             "linecolor": "white",
             "minorgridcolor": "white",
             "startlinecolor": "#2a3f5f"
            },
            "type": "carpet"
           }
          ],
          "choropleth": [
           {
            "colorbar": {
             "outlinewidth": 0,
             "ticks": ""
            },
            "type": "choropleth"
           }
          ],
          "contour": [
           {
            "colorbar": {
             "outlinewidth": 0,
             "ticks": ""
            },
            "colorscale": [
             [
              0,
              "#0d0887"
             ],
             [
              0.1111111111111111,
              "#46039f"
             ],
             [
              0.2222222222222222,
              "#7201a8"
             ],
             [
              0.3333333333333333,
              "#9c179e"
             ],
             [
              0.4444444444444444,
              "#bd3786"
             ],
             [
              0.5555555555555556,
              "#d8576b"
             ],
             [
              0.6666666666666666,
              "#ed7953"
             ],
             [
              0.7777777777777778,
              "#fb9f3a"
             ],
             [
              0.8888888888888888,
              "#fdca26"
             ],
             [
              1,
              "#f0f921"
             ]
            ],
            "type": "contour"
           }
          ],
          "contourcarpet": [
           {
            "colorbar": {
             "outlinewidth": 0,
             "ticks": ""
            },
            "type": "contourcarpet"
           }
          ],
          "heatmap": [
           {
            "colorbar": {
             "outlinewidth": 0,
             "ticks": ""
            },
            "colorscale": [
             [
              0,
              "#0d0887"
             ],
             [
              0.1111111111111111,
              "#46039f"
             ],
             [
              0.2222222222222222,
              "#7201a8"
             ],
             [
              0.3333333333333333,
              "#9c179e"
             ],
             [
              0.4444444444444444,
              "#bd3786"
             ],
             [
              0.5555555555555556,
              "#d8576b"
             ],
             [
              0.6666666666666666,
              "#ed7953"
             ],
             [
              0.7777777777777778,
              "#fb9f3a"
             ],
             [
              0.8888888888888888,
              "#fdca26"
             ],
             [
              1,
              "#f0f921"
             ]
            ],
            "type": "heatmap"
           }
          ],
          "heatmapgl": [
           {
            "colorbar": {
             "outlinewidth": 0,
             "ticks": ""
            },
            "colorscale": [
             [
              0,
              "#0d0887"
             ],
             [
              0.1111111111111111,
              "#46039f"
             ],
             [
              0.2222222222222222,
              "#7201a8"
             ],
             [
              0.3333333333333333,
              "#9c179e"
             ],
             [
              0.4444444444444444,
              "#bd3786"
             ],
             [
              0.5555555555555556,
              "#d8576b"
             ],
             [
              0.6666666666666666,
              "#ed7953"
             ],
             [
              0.7777777777777778,
              "#fb9f3a"
             ],
             [
              0.8888888888888888,
              "#fdca26"
             ],
             [
              1,
              "#f0f921"
             ]
            ],
            "type": "heatmapgl"
           }
          ],
          "histogram": [
           {
            "marker": {
             "colorbar": {
              "outlinewidth": 0,
              "ticks": ""
             }
            },
            "type": "histogram"
           }
          ],
          "histogram2d": [
           {
            "colorbar": {
             "outlinewidth": 0,
             "ticks": ""
            },
            "colorscale": [
             [
              0,
              "#0d0887"
             ],
             [
              0.1111111111111111,
              "#46039f"
             ],
             [
              0.2222222222222222,
              "#7201a8"
             ],
             [
              0.3333333333333333,
              "#9c179e"
             ],
             [
              0.4444444444444444,
              "#bd3786"
             ],
             [
              0.5555555555555556,
              "#d8576b"
             ],
             [
              0.6666666666666666,
              "#ed7953"
             ],
             [
              0.7777777777777778,
              "#fb9f3a"
             ],
             [
              0.8888888888888888,
              "#fdca26"
             ],
             [
              1,
              "#f0f921"
             ]
            ],
            "type": "histogram2d"
           }
          ],
          "histogram2dcontour": [
           {
            "colorbar": {
             "outlinewidth": 0,
             "ticks": ""
            },
            "colorscale": [
             [
              0,
              "#0d0887"
             ],
             [
              0.1111111111111111,
              "#46039f"
             ],
             [
              0.2222222222222222,
              "#7201a8"
             ],
             [
              0.3333333333333333,
              "#9c179e"
             ],
             [
              0.4444444444444444,
              "#bd3786"
             ],
             [
              0.5555555555555556,
              "#d8576b"
             ],
             [
              0.6666666666666666,
              "#ed7953"
             ],
             [
              0.7777777777777778,
              "#fb9f3a"
             ],
             [
              0.8888888888888888,
              "#fdca26"
             ],
             [
              1,
              "#f0f921"
             ]
            ],
            "type": "histogram2dcontour"
           }
          ],
          "mesh3d": [
           {
            "colorbar": {
             "outlinewidth": 0,
             "ticks": ""
            },
            "type": "mesh3d"
           }
          ],
          "parcoords": [
           {
            "line": {
             "colorbar": {
              "outlinewidth": 0,
              "ticks": ""
             }
            },
            "type": "parcoords"
           }
          ],
          "pie": [
           {
            "automargin": true,
            "type": "pie"
           }
          ],
          "scatter": [
           {
            "marker": {
             "colorbar": {
              "outlinewidth": 0,
              "ticks": ""
             }
            },
            "type": "scatter"
           }
          ],
          "scatter3d": [
           {
            "line": {
             "colorbar": {
              "outlinewidth": 0,
              "ticks": ""
             }
            },
            "marker": {
             "colorbar": {
              "outlinewidth": 0,
              "ticks": ""
             }
            },
            "type": "scatter3d"
           }
          ],
          "scattercarpet": [
           {
            "marker": {
             "colorbar": {
              "outlinewidth": 0,
              "ticks": ""
             }
            },
            "type": "scattercarpet"
           }
          ],
          "scattergeo": [
           {
            "marker": {
             "colorbar": {
              "outlinewidth": 0,
              "ticks": ""
             }
            },
            "type": "scattergeo"
           }
          ],
          "scattergl": [
           {
            "marker": {
             "colorbar": {
              "outlinewidth": 0,
              "ticks": ""
             }
            },
            "type": "scattergl"
           }
          ],
          "scattermapbox": [
           {
            "marker": {
             "colorbar": {
              "outlinewidth": 0,
              "ticks": ""
             }
            },
            "type": "scattermapbox"
           }
          ],
          "scatterpolar": [
           {
            "marker": {
             "colorbar": {
              "outlinewidth": 0,
              "ticks": ""
             }
            },
            "type": "scatterpolar"
           }
          ],
          "scatterpolargl": [
           {
            "marker": {
             "colorbar": {
              "outlinewidth": 0,
              "ticks": ""
             }
            },
            "type": "scatterpolargl"
           }
          ],
          "scatterternary": [
           {
            "marker": {
             "colorbar": {
              "outlinewidth": 0,
              "ticks": ""
             }
            },
            "type": "scatterternary"
           }
          ],
          "surface": [
           {
            "colorbar": {
             "outlinewidth": 0,
             "ticks": ""
            },
            "colorscale": [
             [
              0,
              "#0d0887"
             ],
             [
              0.1111111111111111,
              "#46039f"
             ],
             [
              0.2222222222222222,
              "#7201a8"
             ],
             [
              0.3333333333333333,
              "#9c179e"
             ],
             [
              0.4444444444444444,
              "#bd3786"
             ],
             [
              0.5555555555555556,
              "#d8576b"
             ],
             [
              0.6666666666666666,
              "#ed7953"
             ],
             [
              0.7777777777777778,
              "#fb9f3a"
             ],
             [
              0.8888888888888888,
              "#fdca26"
             ],
             [
              1,
              "#f0f921"
             ]
            ],
            "type": "surface"
           }
          ],
          "table": [
           {
            "cells": {
             "fill": {
              "color": "#EBF0F8"
             },
             "line": {
              "color": "white"
             }
            },
            "header": {
             "fill": {
              "color": "#C8D4E3"
             },
             "line": {
              "color": "white"
             }
            },
            "type": "table"
           }
          ]
         },
         "layout": {
          "annotationdefaults": {
           "arrowcolor": "#2a3f5f",
           "arrowhead": 0,
           "arrowwidth": 1
          },
          "autotypenumbers": "strict",
          "coloraxis": {
           "colorbar": {
            "outlinewidth": 0,
            "ticks": ""
           }
          },
          "colorscale": {
           "diverging": [
            [
             0,
             "#8e0152"
            ],
            [
             0.1,
             "#c51b7d"
            ],
            [
             0.2,
             "#de77ae"
            ],
            [
             0.3,
             "#f1b6da"
            ],
            [
             0.4,
             "#fde0ef"
            ],
            [
             0.5,
             "#f7f7f7"
            ],
            [
             0.6,
             "#e6f5d0"
            ],
            [
             0.7,
             "#b8e186"
            ],
            [
             0.8,
             "#7fbc41"
            ],
            [
             0.9,
             "#4d9221"
            ],
            [
             1,
             "#276419"
            ]
           ],
           "sequential": [
            [
             0,
             "#0d0887"
            ],
            [
             0.1111111111111111,
             "#46039f"
            ],
            [
             0.2222222222222222,
             "#7201a8"
            ],
            [
             0.3333333333333333,
             "#9c179e"
            ],
            [
             0.4444444444444444,
             "#bd3786"
            ],
            [
             0.5555555555555556,
             "#d8576b"
            ],
            [
             0.6666666666666666,
             "#ed7953"
            ],
            [
             0.7777777777777778,
             "#fb9f3a"
            ],
            [
             0.8888888888888888,
             "#fdca26"
            ],
            [
             1,
             "#f0f921"
            ]
           ],
           "sequentialminus": [
            [
             0,
             "#0d0887"
            ],
            [
             0.1111111111111111,
             "#46039f"
            ],
            [
             0.2222222222222222,
             "#7201a8"
            ],
            [
             0.3333333333333333,
             "#9c179e"
            ],
            [
             0.4444444444444444,
             "#bd3786"
            ],
            [
             0.5555555555555556,
             "#d8576b"
            ],
            [
             0.6666666666666666,
             "#ed7953"
            ],
            [
             0.7777777777777778,
             "#fb9f3a"
            ],
            [
             0.8888888888888888,
             "#fdca26"
            ],
            [
             1,
             "#f0f921"
            ]
           ]
          },
          "colorway": [
           "#636efa",
           "#EF553B",
           "#00cc96",
           "#ab63fa",
           "#FFA15A",
           "#19d3f3",
           "#FF6692",
           "#B6E880",
           "#FF97FF",
           "#FECB52"
          ],
          "font": {
           "color": "#2a3f5f"
          },
          "geo": {
           "bgcolor": "white",
           "lakecolor": "white",
           "landcolor": "#E5ECF6",
           "showlakes": true,
           "showland": true,
           "subunitcolor": "white"
          },
          "hoverlabel": {
           "align": "left"
          },
          "hovermode": "closest",
          "mapbox": {
           "style": "light"
          },
          "paper_bgcolor": "white",
          "plot_bgcolor": "#E5ECF6",
          "polar": {
           "angularaxis": {
            "gridcolor": "white",
            "linecolor": "white",
            "ticks": ""
           },
           "bgcolor": "#E5ECF6",
           "radialaxis": {
            "gridcolor": "white",
            "linecolor": "white",
            "ticks": ""
           }
          },
          "scene": {
           "xaxis": {
            "backgroundcolor": "#E5ECF6",
            "gridcolor": "white",
            "gridwidth": 2,
            "linecolor": "white",
            "showbackground": true,
            "ticks": "",
            "zerolinecolor": "white"
           },
           "yaxis": {
            "backgroundcolor": "#E5ECF6",
            "gridcolor": "white",
            "gridwidth": 2,
            "linecolor": "white",
            "showbackground": true,
            "ticks": "",
            "zerolinecolor": "white"
           },
           "zaxis": {
            "backgroundcolor": "#E5ECF6",
            "gridcolor": "white",
            "gridwidth": 2,
            "linecolor": "white",
            "showbackground": true,
            "ticks": "",
            "zerolinecolor": "white"
           }
          },
          "shapedefaults": {
           "line": {
            "color": "#2a3f5f"
           }
          },
          "ternary": {
           "aaxis": {
            "gridcolor": "white",
            "linecolor": "white",
            "ticks": ""
           },
           "baxis": {
            "gridcolor": "white",
            "linecolor": "white",
            "ticks": ""
           },
           "bgcolor": "#E5ECF6",
           "caxis": {
            "gridcolor": "white",
            "linecolor": "white",
            "ticks": ""
           }
          },
          "title": {
           "x": 0.05
          },
          "xaxis": {
           "automargin": true,
           "gridcolor": "white",
           "linecolor": "white",
           "ticks": "",
           "title": {
            "standoff": 15
           },
           "zerolinecolor": "white",
           "zerolinewidth": 2
          },
          "yaxis": {
           "automargin": true,
           "gridcolor": "white",
           "linecolor": "white",
           "ticks": "",
           "title": {
            "standoff": 15
           },
           "zerolinecolor": "white",
           "zerolinewidth": 2
          }
         }
        },
        "title": {
         "text": "Product Sentiment"
        },
        "xaxis": {
         "anchor": "y",
         "domain": [
          0,
          1
         ],
         "title": {
          "text": "sentimentt"
         }
        },
        "yaxis": {
         "anchor": "x",
         "domain": [
          0,
          1
         ],
         "title": {
          "text": "count"
         }
        }
       }
      },
      "text/html": [
       "<div>                            <div id=\"7f042777-dc84-4da9-8bba-ae0b4855c7cf\" class=\"plotly-graph-div\" style=\"height:525px; width:100%;\"></div>            <script type=\"text/javascript\">                require([\"plotly\"], function(Plotly) {                    window.PLOTLYENV=window.PLOTLYENV || {};                                    if (document.getElementById(\"7f042777-dc84-4da9-8bba-ae0b4855c7cf\")) {                    Plotly.newPlot(                        \"7f042777-dc84-4da9-8bba-ae0b4855c7cf\",                        [{\"alignmentgroup\": \"True\", \"bingroup\": \"x\", \"hovertemplate\": \"sentimentt=%{x}<br>count=%{y}<extra></extra>\", \"legendgroup\": \"\", \"marker\": {\"color\": \"indianred\", \"line\": {\"color\": \"rgb(8,48,107)\", \"width\": 1.5}}, \"name\": \"\", \"offsetgroup\": \"\", \"orientation\": \"v\", \"showlegend\": false, \"type\": \"histogram\", \"x\": [\"positive\", \"positive\", \"positive\", \"positive\", \"positive\", \"positive\", \"positive\", \"positive\", \"positive\", \"positive\", \"positive\", \"positive\", \"positive\", \"negative\", \"positive\", \"positive\", \"positive\", \"positive\", \"positive\", \"positive\", \"positive\", \"positive\", \"negative\", \"positive\", \"positive\", \"positive\", \"positive\", \"positive\", \"positive\", \"positive\", \"positive\", \"positive\", \"positive\", \"positive\", \"positive\", \"positive\", \"negative\", \"positive\", \"positive\", \"negative\", \"positive\", \"positive\", \"negative\", \"positive\", \"positive\", \"positive\", \"positive\", \"positive\", \"positive\", \"negative\", \"positive\", \"positive\", \"positive\", \"positive\", \"positive\", \"positive\", \"positive\", \"positive\", \"positive\", \"positive\"], \"xaxis\": \"x\", \"yaxis\": \"y\"}],                        {\"barmode\": \"relative\", \"legend\": {\"tracegroupgap\": 0}, \"margin\": {\"t\": 60}, \"template\": {\"data\": {\"bar\": [{\"error_x\": {\"color\": \"#2a3f5f\"}, \"error_y\": {\"color\": \"#2a3f5f\"}, \"marker\": {\"line\": {\"color\": \"#E5ECF6\", \"width\": 0.5}}, \"type\": \"bar\"}], \"barpolar\": [{\"marker\": {\"line\": {\"color\": \"#E5ECF6\", \"width\": 0.5}}, \"type\": \"barpolar\"}], \"carpet\": [{\"aaxis\": {\"endlinecolor\": \"#2a3f5f\", \"gridcolor\": \"white\", \"linecolor\": \"white\", \"minorgridcolor\": \"white\", \"startlinecolor\": \"#2a3f5f\"}, \"baxis\": {\"endlinecolor\": \"#2a3f5f\", \"gridcolor\": \"white\", \"linecolor\": \"white\", \"minorgridcolor\": \"white\", \"startlinecolor\": \"#2a3f5f\"}, \"type\": \"carpet\"}], \"choropleth\": [{\"colorbar\": {\"outlinewidth\": 0, \"ticks\": \"\"}, \"type\": \"choropleth\"}], \"contour\": [{\"colorbar\": {\"outlinewidth\": 0, \"ticks\": \"\"}, \"colorscale\": [[0.0, \"#0d0887\"], [0.1111111111111111, \"#46039f\"], [0.2222222222222222, \"#7201a8\"], [0.3333333333333333, \"#9c179e\"], [0.4444444444444444, \"#bd3786\"], [0.5555555555555556, \"#d8576b\"], [0.6666666666666666, \"#ed7953\"], [0.7777777777777778, \"#fb9f3a\"], [0.8888888888888888, \"#fdca26\"], [1.0, \"#f0f921\"]], \"type\": \"contour\"}], \"contourcarpet\": [{\"colorbar\": {\"outlinewidth\": 0, \"ticks\": \"\"}, \"type\": \"contourcarpet\"}], \"heatmap\": [{\"colorbar\": {\"outlinewidth\": 0, \"ticks\": \"\"}, \"colorscale\": [[0.0, \"#0d0887\"], [0.1111111111111111, \"#46039f\"], [0.2222222222222222, \"#7201a8\"], [0.3333333333333333, \"#9c179e\"], [0.4444444444444444, \"#bd3786\"], [0.5555555555555556, \"#d8576b\"], [0.6666666666666666, \"#ed7953\"], [0.7777777777777778, \"#fb9f3a\"], [0.8888888888888888, \"#fdca26\"], [1.0, \"#f0f921\"]], \"type\": \"heatmap\"}], \"heatmapgl\": [{\"colorbar\": {\"outlinewidth\": 0, \"ticks\": \"\"}, \"colorscale\": [[0.0, \"#0d0887\"], [0.1111111111111111, \"#46039f\"], [0.2222222222222222, \"#7201a8\"], [0.3333333333333333, \"#9c179e\"], [0.4444444444444444, \"#bd3786\"], [0.5555555555555556, \"#d8576b\"], [0.6666666666666666, \"#ed7953\"], [0.7777777777777778, \"#fb9f3a\"], [0.8888888888888888, \"#fdca26\"], [1.0, \"#f0f921\"]], \"type\": \"heatmapgl\"}], \"histogram\": [{\"marker\": {\"colorbar\": {\"outlinewidth\": 0, \"ticks\": \"\"}}, \"type\": \"histogram\"}], \"histogram2d\": [{\"colorbar\": {\"outlinewidth\": 0, \"ticks\": \"\"}, \"colorscale\": [[0.0, \"#0d0887\"], [0.1111111111111111, \"#46039f\"], [0.2222222222222222, \"#7201a8\"], [0.3333333333333333, \"#9c179e\"], [0.4444444444444444, \"#bd3786\"], [0.5555555555555556, \"#d8576b\"], [0.6666666666666666, \"#ed7953\"], [0.7777777777777778, \"#fb9f3a\"], [0.8888888888888888, \"#fdca26\"], [1.0, \"#f0f921\"]], \"type\": \"histogram2d\"}], \"histogram2dcontour\": [{\"colorbar\": {\"outlinewidth\": 0, \"ticks\": \"\"}, \"colorscale\": [[0.0, \"#0d0887\"], [0.1111111111111111, \"#46039f\"], [0.2222222222222222, \"#7201a8\"], [0.3333333333333333, \"#9c179e\"], [0.4444444444444444, \"#bd3786\"], [0.5555555555555556, \"#d8576b\"], [0.6666666666666666, \"#ed7953\"], [0.7777777777777778, \"#fb9f3a\"], [0.8888888888888888, \"#fdca26\"], [1.0, \"#f0f921\"]], \"type\": \"histogram2dcontour\"}], \"mesh3d\": [{\"colorbar\": {\"outlinewidth\": 0, \"ticks\": \"\"}, \"type\": \"mesh3d\"}], \"parcoords\": [{\"line\": {\"colorbar\": {\"outlinewidth\": 0, \"ticks\": \"\"}}, \"type\": \"parcoords\"}], \"pie\": [{\"automargin\": true, \"type\": \"pie\"}], \"scatter\": [{\"marker\": {\"colorbar\": {\"outlinewidth\": 0, \"ticks\": \"\"}}, \"type\": \"scatter\"}], \"scatter3d\": [{\"line\": {\"colorbar\": {\"outlinewidth\": 0, \"ticks\": \"\"}}, \"marker\": {\"colorbar\": {\"outlinewidth\": 0, \"ticks\": \"\"}}, \"type\": \"scatter3d\"}], \"scattercarpet\": [{\"marker\": {\"colorbar\": {\"outlinewidth\": 0, \"ticks\": \"\"}}, \"type\": \"scattercarpet\"}], \"scattergeo\": [{\"marker\": {\"colorbar\": {\"outlinewidth\": 0, \"ticks\": \"\"}}, \"type\": \"scattergeo\"}], \"scattergl\": [{\"marker\": {\"colorbar\": {\"outlinewidth\": 0, \"ticks\": \"\"}}, \"type\": \"scattergl\"}], \"scattermapbox\": [{\"marker\": {\"colorbar\": {\"outlinewidth\": 0, \"ticks\": \"\"}}, \"type\": \"scattermapbox\"}], \"scatterpolar\": [{\"marker\": {\"colorbar\": {\"outlinewidth\": 0, \"ticks\": \"\"}}, \"type\": \"scatterpolar\"}], \"scatterpolargl\": [{\"marker\": {\"colorbar\": {\"outlinewidth\": 0, \"ticks\": \"\"}}, \"type\": \"scatterpolargl\"}], \"scatterternary\": [{\"marker\": {\"colorbar\": {\"outlinewidth\": 0, \"ticks\": \"\"}}, \"type\": \"scatterternary\"}], \"surface\": [{\"colorbar\": {\"outlinewidth\": 0, \"ticks\": \"\"}, \"colorscale\": [[0.0, \"#0d0887\"], [0.1111111111111111, \"#46039f\"], [0.2222222222222222, \"#7201a8\"], [0.3333333333333333, \"#9c179e\"], [0.4444444444444444, \"#bd3786\"], [0.5555555555555556, \"#d8576b\"], [0.6666666666666666, \"#ed7953\"], [0.7777777777777778, \"#fb9f3a\"], [0.8888888888888888, \"#fdca26\"], [1.0, \"#f0f921\"]], \"type\": \"surface\"}], \"table\": [{\"cells\": {\"fill\": {\"color\": \"#EBF0F8\"}, \"line\": {\"color\": \"white\"}}, \"header\": {\"fill\": {\"color\": \"#C8D4E3\"}, \"line\": {\"color\": \"white\"}}, \"type\": \"table\"}]}, \"layout\": {\"annotationdefaults\": {\"arrowcolor\": \"#2a3f5f\", \"arrowhead\": 0, \"arrowwidth\": 1}, \"autotypenumbers\": \"strict\", \"coloraxis\": {\"colorbar\": {\"outlinewidth\": 0, \"ticks\": \"\"}}, \"colorscale\": {\"diverging\": [[0, \"#8e0152\"], [0.1, \"#c51b7d\"], [0.2, \"#de77ae\"], [0.3, \"#f1b6da\"], [0.4, \"#fde0ef\"], [0.5, \"#f7f7f7\"], [0.6, \"#e6f5d0\"], [0.7, \"#b8e186\"], [0.8, \"#7fbc41\"], [0.9, \"#4d9221\"], [1, \"#276419\"]], \"sequential\": [[0.0, \"#0d0887\"], [0.1111111111111111, \"#46039f\"], [0.2222222222222222, \"#7201a8\"], [0.3333333333333333, \"#9c179e\"], [0.4444444444444444, \"#bd3786\"], [0.5555555555555556, \"#d8576b\"], [0.6666666666666666, \"#ed7953\"], [0.7777777777777778, \"#fb9f3a\"], [0.8888888888888888, \"#fdca26\"], [1.0, \"#f0f921\"]], \"sequentialminus\": [[0.0, \"#0d0887\"], [0.1111111111111111, \"#46039f\"], [0.2222222222222222, \"#7201a8\"], [0.3333333333333333, \"#9c179e\"], [0.4444444444444444, \"#bd3786\"], [0.5555555555555556, \"#d8576b\"], [0.6666666666666666, \"#ed7953\"], [0.7777777777777778, \"#fb9f3a\"], [0.8888888888888888, \"#fdca26\"], [1.0, \"#f0f921\"]]}, \"colorway\": [\"#636efa\", \"#EF553B\", \"#00cc96\", \"#ab63fa\", \"#FFA15A\", \"#19d3f3\", \"#FF6692\", \"#B6E880\", \"#FF97FF\", \"#FECB52\"], \"font\": {\"color\": \"#2a3f5f\"}, \"geo\": {\"bgcolor\": \"white\", \"lakecolor\": \"white\", \"landcolor\": \"#E5ECF6\", \"showlakes\": true, \"showland\": true, \"subunitcolor\": \"white\"}, \"hoverlabel\": {\"align\": \"left\"}, \"hovermode\": \"closest\", \"mapbox\": {\"style\": \"light\"}, \"paper_bgcolor\": \"white\", \"plot_bgcolor\": \"#E5ECF6\", \"polar\": {\"angularaxis\": {\"gridcolor\": \"white\", \"linecolor\": \"white\", \"ticks\": \"\"}, \"bgcolor\": \"#E5ECF6\", \"radialaxis\": {\"gridcolor\": \"white\", \"linecolor\": \"white\", \"ticks\": \"\"}}, \"scene\": {\"xaxis\": {\"backgroundcolor\": \"#E5ECF6\", \"gridcolor\": \"white\", \"gridwidth\": 2, \"linecolor\": \"white\", \"showbackground\": true, \"ticks\": \"\", \"zerolinecolor\": \"white\"}, \"yaxis\": {\"backgroundcolor\": \"#E5ECF6\", \"gridcolor\": \"white\", \"gridwidth\": 2, \"linecolor\": \"white\", \"showbackground\": true, \"ticks\": \"\", \"zerolinecolor\": \"white\"}, \"zaxis\": {\"backgroundcolor\": \"#E5ECF6\", \"gridcolor\": \"white\", \"gridwidth\": 2, \"linecolor\": \"white\", \"showbackground\": true, \"ticks\": \"\", \"zerolinecolor\": \"white\"}}, \"shapedefaults\": {\"line\": {\"color\": \"#2a3f5f\"}}, \"ternary\": {\"aaxis\": {\"gridcolor\": \"white\", \"linecolor\": \"white\", \"ticks\": \"\"}, \"baxis\": {\"gridcolor\": \"white\", \"linecolor\": \"white\", \"ticks\": \"\"}, \"bgcolor\": \"#E5ECF6\", \"caxis\": {\"gridcolor\": \"white\", \"linecolor\": \"white\", \"ticks\": \"\"}}, \"title\": {\"x\": 0.05}, \"xaxis\": {\"automargin\": true, \"gridcolor\": \"white\", \"linecolor\": \"white\", \"ticks\": \"\", \"title\": {\"standoff\": 15}, \"zerolinecolor\": \"white\", \"zerolinewidth\": 2}, \"yaxis\": {\"automargin\": true, \"gridcolor\": \"white\", \"linecolor\": \"white\", \"ticks\": \"\", \"title\": {\"standoff\": 15}, \"zerolinecolor\": \"white\", \"zerolinewidth\": 2}}}, \"title\": {\"text\": \"Product Sentiment\"}, \"xaxis\": {\"anchor\": \"y\", \"domain\": [0.0, 1.0], \"title\": {\"text\": \"sentimentt\"}}, \"yaxis\": {\"anchor\": \"x\", \"domain\": [0.0, 1.0], \"title\": {\"text\": \"count\"}}},                        {\"responsive\": true}                    ).then(function(){\n",
       "                            \n",
       "var gd = document.getElementById('7f042777-dc84-4da9-8bba-ae0b4855c7cf');\n",
       "var x = new MutationObserver(function (mutations, observer) {{\n",
       "        var display = window.getComputedStyle(gd).display;\n",
       "        if (!display || display === 'none') {{\n",
       "            console.log([gd, 'removed!']);\n",
       "            Plotly.purge(gd);\n",
       "            observer.disconnect();\n",
       "        }}\n",
       "}});\n",
       "\n",
       "// Listen for the removal of the full notebook cells\n",
       "var notebookContainer = gd.closest('#notebook-container');\n",
       "if (notebookContainer) {{\n",
       "    x.observe(notebookContainer, {childList: true});\n",
       "}}\n",
       "\n",
       "// Listen for the clearing of the current output cell\n",
       "var outputEl = gd.closest('.output');\n",
       "if (outputEl) {{\n",
       "    x.observe(outputEl, {childList: true});\n",
       "}}\n",
       "\n",
       "                        })                };                });            </script>        </div>"
      ]
     },
     "metadata": {},
     "output_type": "display_data"
    }
   ],
   "source": [
    "df['sentimentt'] = df['sentiment'].replace({-1 : 'negative'})\n",
    "df['sentimentt'] = df['sentimentt'].replace({1 : 'positive'})\n",
    "fig = px.histogram(df, x=\"sentimentt\")\n",
    "fig.update_traces(marker_color=\"indianred\",marker_line_color='rgb(8,48,107)',\n",
    "                  marker_line_width=1.5)\n",
    "fig.update_layout(title_text='Product Sentiment')\n",
    "fig.show()"
   ]
  },
  {
   "cell_type": "code",
   "execution_count": 108,
   "id": "0816ea99",
   "metadata": {},
   "outputs": [],
   "source": [
    "#Overall Frequencies\n",
    "frequencies = wordcloud.process_text(textt)\n",
    "df1 = pd.DataFrame.from_dict(frequencies,orient='index',columns=['frequency'])\n",
    "df1.head()\n",
    "df1.to_excel(\"overall.xlsx\")"
   ]
  },
  {
   "cell_type": "code",
   "execution_count": 109,
   "id": "fa54d4b5",
   "metadata": {},
   "outputs": [],
   "source": [
    "#Positive Frequencies\n",
    "frequencies = wordcloud2.process_text(pos)\n",
    "df2 = pd.DataFrame.from_dict(frequencies,orient='index',columns=['frequency'])\n",
    "df2.head()\n",
    "df2.to_excel(\"positive.xlsx\")"
   ]
  },
  {
   "cell_type": "code",
   "execution_count": 110,
   "id": "574c0d97",
   "metadata": {},
   "outputs": [],
   "source": [
    "#Negative Frequencies\n",
    "frequencies = wordcloud3.process_text(neg)\n",
    "df3 = pd.DataFrame.from_dict(frequencies,orient='index',columns=['frequency'])\n",
    "df3.head()\n",
    "df3.to_excel(\"negative.xlsx\")"
   ]
  },
  {
   "cell_type": "code",
   "execution_count": null,
   "id": "9ab5b006",
   "metadata": {},
   "outputs": [],
   "source": []
  },
  {
   "cell_type": "code",
   "execution_count": null,
   "id": "ac46312d",
   "metadata": {},
   "outputs": [],
   "source": []
  }
 ],
 "metadata": {
  "kernelspec": {
   "display_name": "Python 3",
   "language": "python",
   "name": "python3"
  },
  "language_info": {
   "codemirror_mode": {
    "name": "ipython",
    "version": 3
   },
   "file_extension": ".py",
   "mimetype": "text/x-python",
   "name": "python",
   "nbconvert_exporter": "python",
   "pygments_lexer": "ipython3",
   "version": "3.8.8"
  }
 },
 "nbformat": 4,
 "nbformat_minor": 5
}
